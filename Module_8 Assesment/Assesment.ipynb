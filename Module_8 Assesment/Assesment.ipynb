{
 "cells": [
  {
   "cell_type": "markdown",
   "id": "41929f27",
   "metadata": {},
   "source": [
    "Assessment 1: Financial Analysis "
   ]
  },
  {
   "cell_type": "code",
   "execution_count": 2,
   "id": "4dfd6914",
   "metadata": {},
   "outputs": [],
   "source": [
    "import pandas as pd\n",
    "\n",
    "import numpy as np\n",
    "\n",
    "import matplotlib.pyplot as plt\n",
    "\n",
    "import seaborn as sns"
   ]
  },
  {
   "cell_type": "code",
   "execution_count": 3,
   "id": "9f98eae0",
   "metadata": {},
   "outputs": [],
   "source": [
    "df = pd.read_csv('finance_economics_dataset.csv')"
   ]
  },
  {
   "cell_type": "code",
   "execution_count": 4,
   "id": "123305e6",
   "metadata": {},
   "outputs": [
    {
     "data": {
      "text/html": [
       "<div>\n",
       "<style scoped>\n",
       "    .dataframe tbody tr th:only-of-type {\n",
       "        vertical-align: middle;\n",
       "    }\n",
       "\n",
       "    .dataframe tbody tr th {\n",
       "        vertical-align: top;\n",
       "    }\n",
       "\n",
       "    .dataframe thead th {\n",
       "        text-align: right;\n",
       "    }\n",
       "</style>\n",
       "<table border=\"1\" class=\"dataframe\">\n",
       "  <thead>\n",
       "    <tr style=\"text-align: right;\">\n",
       "      <th></th>\n",
       "      <th>Date</th>\n",
       "      <th>Stock Index</th>\n",
       "      <th>Open Price</th>\n",
       "      <th>Close Price</th>\n",
       "      <th>Daily High</th>\n",
       "      <th>Daily Low</th>\n",
       "      <th>Trading Volume</th>\n",
       "      <th>GDP Growth (%)</th>\n",
       "      <th>Inflation Rate (%)</th>\n",
       "      <th>Unemployment Rate (%)</th>\n",
       "      <th>...</th>\n",
       "      <th>Forex USD/EUR</th>\n",
       "      <th>Forex USD/JPY</th>\n",
       "      <th>Crude Oil Price (USD per Barrel)</th>\n",
       "      <th>Gold Price (USD per Ounce)</th>\n",
       "      <th>Real Estate Index</th>\n",
       "      <th>Retail Sales (Billion USD)</th>\n",
       "      <th>Bankruptcy Rate (%)</th>\n",
       "      <th>Mergers &amp; Acquisitions Deals</th>\n",
       "      <th>Venture Capital Funding (Billion USD)</th>\n",
       "      <th>Consumer Spending (Billion USD)</th>\n",
       "    </tr>\n",
       "  </thead>\n",
       "  <tbody>\n",
       "    <tr>\n",
       "      <th>0</th>\n",
       "      <td>2000-01-01</td>\n",
       "      <td>Dow Jones</td>\n",
       "      <td>2128.75</td>\n",
       "      <td>2138.48</td>\n",
       "      <td>2143.70</td>\n",
       "      <td>2100.55</td>\n",
       "      <td>2670411</td>\n",
       "      <td>-0.37</td>\n",
       "      <td>6.06</td>\n",
       "      <td>6.10</td>\n",
       "      <td>...</td>\n",
       "      <td>1.04</td>\n",
       "      <td>119.87</td>\n",
       "      <td>47.20</td>\n",
       "      <td>1052.34</td>\n",
       "      <td>390.23</td>\n",
       "      <td>2229</td>\n",
       "      <td>2.12</td>\n",
       "      <td>3</td>\n",
       "      <td>76.64</td>\n",
       "      <td>4589</td>\n",
       "    </tr>\n",
       "    <tr>\n",
       "      <th>1</th>\n",
       "      <td>2000-01-02</td>\n",
       "      <td>S&amp;P 500</td>\n",
       "      <td>2046.82</td>\n",
       "      <td>2036.18</td>\n",
       "      <td>2082.83</td>\n",
       "      <td>2009.53</td>\n",
       "      <td>690220415</td>\n",
       "      <td>3.19</td>\n",
       "      <td>4.95</td>\n",
       "      <td>6.62</td>\n",
       "      <td>...</td>\n",
       "      <td>1.00</td>\n",
       "      <td>98.22</td>\n",
       "      <td>52.84</td>\n",
       "      <td>1957.73</td>\n",
       "      <td>346.23</td>\n",
       "      <td>4156</td>\n",
       "      <td>1.40</td>\n",
       "      <td>21</td>\n",
       "      <td>5.67</td>\n",
       "      <td>10101</td>\n",
       "    </tr>\n",
       "    <tr>\n",
       "      <th>2</th>\n",
       "      <td>2000-01-03</td>\n",
       "      <td>Dow Jones</td>\n",
       "      <td>1987.92</td>\n",
       "      <td>1985.26</td>\n",
       "      <td>2022.28</td>\n",
       "      <td>1978.37</td>\n",
       "      <td>315284661</td>\n",
       "      <td>5.54</td>\n",
       "      <td>9.13</td>\n",
       "      <td>2.60</td>\n",
       "      <td>...</td>\n",
       "      <td>0.83</td>\n",
       "      <td>80.13</td>\n",
       "      <td>78.80</td>\n",
       "      <td>2339.49</td>\n",
       "      <td>439.46</td>\n",
       "      <td>340</td>\n",
       "      <td>0.79</td>\n",
       "      <td>48</td>\n",
       "      <td>39.43</td>\n",
       "      <td>13665</td>\n",
       "    </tr>\n",
       "    <tr>\n",
       "      <th>3</th>\n",
       "      <td>2000-01-04</td>\n",
       "      <td>Dow Jones</td>\n",
       "      <td>4625.02</td>\n",
       "      <td>4660.47</td>\n",
       "      <td>4665.26</td>\n",
       "      <td>4595.46</td>\n",
       "      <td>13098297</td>\n",
       "      <td>10.00</td>\n",
       "      <td>3.77</td>\n",
       "      <td>2.20</td>\n",
       "      <td>...</td>\n",
       "      <td>0.95</td>\n",
       "      <td>149.15</td>\n",
       "      <td>28.18</td>\n",
       "      <td>1308.54</td>\n",
       "      <td>213.07</td>\n",
       "      <td>8456</td>\n",
       "      <td>4.22</td>\n",
       "      <td>16</td>\n",
       "      <td>12.83</td>\n",
       "      <td>5192</td>\n",
       "    </tr>\n",
       "    <tr>\n",
       "      <th>4</th>\n",
       "      <td>2000-01-05</td>\n",
       "      <td>S&amp;P 500</td>\n",
       "      <td>1998.18</td>\n",
       "      <td>1982.18</td>\n",
       "      <td>2044.31</td>\n",
       "      <td>1966.44</td>\n",
       "      <td>385306746</td>\n",
       "      <td>1.53</td>\n",
       "      <td>2.20</td>\n",
       "      <td>8.20</td>\n",
       "      <td>...</td>\n",
       "      <td>1.43</td>\n",
       "      <td>113.71</td>\n",
       "      <td>92.20</td>\n",
       "      <td>2210.08</td>\n",
       "      <td>405.49</td>\n",
       "      <td>1596</td>\n",
       "      <td>2.21</td>\n",
       "      <td>34</td>\n",
       "      <td>86.37</td>\n",
       "      <td>10688</td>\n",
       "    </tr>\n",
       "    <tr>\n",
       "      <th>...</th>\n",
       "      <td>...</td>\n",
       "      <td>...</td>\n",
       "      <td>...</td>\n",
       "      <td>...</td>\n",
       "      <td>...</td>\n",
       "      <td>...</td>\n",
       "      <td>...</td>\n",
       "      <td>...</td>\n",
       "      <td>...</td>\n",
       "      <td>...</td>\n",
       "      <td>...</td>\n",
       "      <td>...</td>\n",
       "      <td>...</td>\n",
       "      <td>...</td>\n",
       "      <td>...</td>\n",
       "      <td>...</td>\n",
       "      <td>...</td>\n",
       "      <td>...</td>\n",
       "      <td>...</td>\n",
       "      <td>...</td>\n",
       "      <td>...</td>\n",
       "    </tr>\n",
       "    <tr>\n",
       "      <th>2995</th>\n",
       "      <td>2008-03-14</td>\n",
       "      <td>Dow Jones</td>\n",
       "      <td>1273.76</td>\n",
       "      <td>1235.44</td>\n",
       "      <td>1317.28</td>\n",
       "      <td>1192.34</td>\n",
       "      <td>86910001</td>\n",
       "      <td>8.84</td>\n",
       "      <td>7.00</td>\n",
       "      <td>10.44</td>\n",
       "      <td>...</td>\n",
       "      <td>1.18</td>\n",
       "      <td>113.52</td>\n",
       "      <td>61.98</td>\n",
       "      <td>2385.41</td>\n",
       "      <td>298.72</td>\n",
       "      <td>3033</td>\n",
       "      <td>8.75</td>\n",
       "      <td>35</td>\n",
       "      <td>66.01</td>\n",
       "      <td>2200</td>\n",
       "    </tr>\n",
       "    <tr>\n",
       "      <th>2996</th>\n",
       "      <td>2008-03-15</td>\n",
       "      <td>S&amp;P 500</td>\n",
       "      <td>4589.59</td>\n",
       "      <td>4566.91</td>\n",
       "      <td>4607.56</td>\n",
       "      <td>4545.69</td>\n",
       "      <td>303579301</td>\n",
       "      <td>-1.88</td>\n",
       "      <td>9.15</td>\n",
       "      <td>5.61</td>\n",
       "      <td>...</td>\n",
       "      <td>1.17</td>\n",
       "      <td>147.10</td>\n",
       "      <td>31.61</td>\n",
       "      <td>2147.13</td>\n",
       "      <td>143.43</td>\n",
       "      <td>7950</td>\n",
       "      <td>5.07</td>\n",
       "      <td>18</td>\n",
       "      <td>25.49</td>\n",
       "      <td>5261</td>\n",
       "    </tr>\n",
       "    <tr>\n",
       "      <th>2997</th>\n",
       "      <td>2008-03-16</td>\n",
       "      <td>S&amp;P 500</td>\n",
       "      <td>1477.52</td>\n",
       "      <td>1448.47</td>\n",
       "      <td>1523.86</td>\n",
       "      <td>1402.69</td>\n",
       "      <td>442387176</td>\n",
       "      <td>4.07</td>\n",
       "      <td>0.88</td>\n",
       "      <td>8.91</td>\n",
       "      <td>...</td>\n",
       "      <td>1.02</td>\n",
       "      <td>81.99</td>\n",
       "      <td>45.64</td>\n",
       "      <td>1943.61</td>\n",
       "      <td>105.81</td>\n",
       "      <td>3894</td>\n",
       "      <td>5.78</td>\n",
       "      <td>4</td>\n",
       "      <td>14.29</td>\n",
       "      <td>12039</td>\n",
       "    </tr>\n",
       "    <tr>\n",
       "      <th>2998</th>\n",
       "      <td>2008-03-17</td>\n",
       "      <td>NASDAQ</td>\n",
       "      <td>2311.37</td>\n",
       "      <td>2306.90</td>\n",
       "      <td>2346.30</td>\n",
       "      <td>2282.00</td>\n",
       "      <td>523425925</td>\n",
       "      <td>1.06</td>\n",
       "      <td>8.61</td>\n",
       "      <td>10.15</td>\n",
       "      <td>...</td>\n",
       "      <td>1.49</td>\n",
       "      <td>86.42</td>\n",
       "      <td>123.25</td>\n",
       "      <td>2211.40</td>\n",
       "      <td>236.07</td>\n",
       "      <td>2543</td>\n",
       "      <td>2.35</td>\n",
       "      <td>22</td>\n",
       "      <td>94.34</td>\n",
       "      <td>11979</td>\n",
       "    </tr>\n",
       "    <tr>\n",
       "      <th>2999</th>\n",
       "      <td>2008-03-18</td>\n",
       "      <td>NASDAQ</td>\n",
       "      <td>4262.98</td>\n",
       "      <td>4303.82</td>\n",
       "      <td>4316.68</td>\n",
       "      <td>4243.04</td>\n",
       "      <td>990814609</td>\n",
       "      <td>6.61</td>\n",
       "      <td>7.93</td>\n",
       "      <td>10.32</td>\n",
       "      <td>...</td>\n",
       "      <td>0.85</td>\n",
       "      <td>97.03</td>\n",
       "      <td>144.06</td>\n",
       "      <td>1225.09</td>\n",
       "      <td>201.82</td>\n",
       "      <td>4354</td>\n",
       "      <td>7.99</td>\n",
       "      <td>43</td>\n",
       "      <td>63.36</td>\n",
       "      <td>11220</td>\n",
       "    </tr>\n",
       "  </tbody>\n",
       "</table>\n",
       "<p>3000 rows × 24 columns</p>\n",
       "</div>"
      ],
      "text/plain": [
       "            Date Stock Index  Open Price  Close Price  Daily High  Daily Low  \\\n",
       "0     2000-01-01   Dow Jones     2128.75      2138.48     2143.70    2100.55   \n",
       "1     2000-01-02     S&P 500     2046.82      2036.18     2082.83    2009.53   \n",
       "2     2000-01-03   Dow Jones     1987.92      1985.26     2022.28    1978.37   \n",
       "3     2000-01-04   Dow Jones     4625.02      4660.47     4665.26    4595.46   \n",
       "4     2000-01-05     S&P 500     1998.18      1982.18     2044.31    1966.44   \n",
       "...          ...         ...         ...          ...         ...        ...   \n",
       "2995  2008-03-14   Dow Jones     1273.76      1235.44     1317.28    1192.34   \n",
       "2996  2008-03-15     S&P 500     4589.59      4566.91     4607.56    4545.69   \n",
       "2997  2008-03-16     S&P 500     1477.52      1448.47     1523.86    1402.69   \n",
       "2998  2008-03-17      NASDAQ     2311.37      2306.90     2346.30    2282.00   \n",
       "2999  2008-03-18      NASDAQ     4262.98      4303.82     4316.68    4243.04   \n",
       "\n",
       "      Trading Volume  GDP Growth (%)  Inflation Rate (%)  \\\n",
       "0            2670411           -0.37                6.06   \n",
       "1          690220415            3.19                4.95   \n",
       "2          315284661            5.54                9.13   \n",
       "3           13098297           10.00                3.77   \n",
       "4          385306746            1.53                2.20   \n",
       "...              ...             ...                 ...   \n",
       "2995        86910001            8.84                7.00   \n",
       "2996       303579301           -1.88                9.15   \n",
       "2997       442387176            4.07                0.88   \n",
       "2998       523425925            1.06                8.61   \n",
       "2999       990814609            6.61                7.93   \n",
       "\n",
       "      Unemployment Rate (%)  ...  Forex USD/EUR  Forex USD/JPY  \\\n",
       "0                      6.10  ...           1.04         119.87   \n",
       "1                      6.62  ...           1.00          98.22   \n",
       "2                      2.60  ...           0.83          80.13   \n",
       "3                      2.20  ...           0.95         149.15   \n",
       "4                      8.20  ...           1.43         113.71   \n",
       "...                     ...  ...            ...            ...   \n",
       "2995                  10.44  ...           1.18         113.52   \n",
       "2996                   5.61  ...           1.17         147.10   \n",
       "2997                   8.91  ...           1.02          81.99   \n",
       "2998                  10.15  ...           1.49          86.42   \n",
       "2999                  10.32  ...           0.85          97.03   \n",
       "\n",
       "      Crude Oil Price (USD per Barrel)  Gold Price (USD per Ounce)  \\\n",
       "0                                47.20                     1052.34   \n",
       "1                                52.84                     1957.73   \n",
       "2                                78.80                     2339.49   \n",
       "3                                28.18                     1308.54   \n",
       "4                                92.20                     2210.08   \n",
       "...                                ...                         ...   \n",
       "2995                             61.98                     2385.41   \n",
       "2996                             31.61                     2147.13   \n",
       "2997                             45.64                     1943.61   \n",
       "2998                            123.25                     2211.40   \n",
       "2999                            144.06                     1225.09   \n",
       "\n",
       "      Real Estate Index  Retail Sales (Billion USD)  Bankruptcy Rate (%)  \\\n",
       "0                390.23                        2229                 2.12   \n",
       "1                346.23                        4156                 1.40   \n",
       "2                439.46                         340                 0.79   \n",
       "3                213.07                        8456                 4.22   \n",
       "4                405.49                        1596                 2.21   \n",
       "...                 ...                         ...                  ...   \n",
       "2995             298.72                        3033                 8.75   \n",
       "2996             143.43                        7950                 5.07   \n",
       "2997             105.81                        3894                 5.78   \n",
       "2998             236.07                        2543                 2.35   \n",
       "2999             201.82                        4354                 7.99   \n",
       "\n",
       "      Mergers & Acquisitions Deals  Venture Capital Funding (Billion USD)  \\\n",
       "0                                3                                  76.64   \n",
       "1                               21                                   5.67   \n",
       "2                               48                                  39.43   \n",
       "3                               16                                  12.83   \n",
       "4                               34                                  86.37   \n",
       "...                            ...                                    ...   \n",
       "2995                            35                                  66.01   \n",
       "2996                            18                                  25.49   \n",
       "2997                             4                                  14.29   \n",
       "2998                            22                                  94.34   \n",
       "2999                            43                                  63.36   \n",
       "\n",
       "      Consumer Spending (Billion USD)  \n",
       "0                                4589  \n",
       "1                               10101  \n",
       "2                               13665  \n",
       "3                                5192  \n",
       "4                               10688  \n",
       "...                               ...  \n",
       "2995                             2200  \n",
       "2996                             5261  \n",
       "2997                            12039  \n",
       "2998                            11979  \n",
       "2999                            11220  \n",
       "\n",
       "[3000 rows x 24 columns]"
      ]
     },
     "execution_count": 4,
     "metadata": {},
     "output_type": "execute_result"
    }
   ],
   "source": [
    "df"
   ]
  },
  {
   "cell_type": "code",
   "execution_count": 5,
   "id": "c9a718e3",
   "metadata": {},
   "outputs": [
    {
     "data": {
      "text/plain": [
       "(3000, 24)"
      ]
     },
     "execution_count": 5,
     "metadata": {},
     "output_type": "execute_result"
    }
   ],
   "source": [
    "# Shape of dataset\n",
    "df.shape"
   ]
  },
  {
   "cell_type": "code",
   "execution_count": 6,
   "id": "ba049aca",
   "metadata": {},
   "outputs": [
    {
     "name": "stdout",
     "output_type": "stream",
     "text": [
      "<class 'pandas.core.frame.DataFrame'>\n",
      "RangeIndex: 3000 entries, 0 to 2999\n",
      "Data columns (total 24 columns):\n",
      " #   Column                                 Non-Null Count  Dtype  \n",
      "---  ------                                 --------------  -----  \n",
      " 0   Date                                   3000 non-null   object \n",
      " 1   Stock Index                            3000 non-null   object \n",
      " 2   Open Price                             3000 non-null   float64\n",
      " 3   Close Price                            3000 non-null   float64\n",
      " 4   Daily High                             3000 non-null   float64\n",
      " 5   Daily Low                              3000 non-null   float64\n",
      " 6   Trading Volume                         3000 non-null   int64  \n",
      " 7   GDP Growth (%)                         3000 non-null   float64\n",
      " 8   Inflation Rate (%)                     3000 non-null   float64\n",
      " 9   Unemployment Rate (%)                  3000 non-null   float64\n",
      " 10  Interest Rate (%)                      3000 non-null   float64\n",
      " 11  Consumer Confidence Index              3000 non-null   int64  \n",
      " 12  Government Debt (Billion USD)          3000 non-null   int64  \n",
      " 13  Corporate Profits (Billion USD)        3000 non-null   int64  \n",
      " 14  Forex USD/EUR                          3000 non-null   float64\n",
      " 15  Forex USD/JPY                          3000 non-null   float64\n",
      " 16  Crude Oil Price (USD per Barrel)       3000 non-null   float64\n",
      " 17  Gold Price (USD per Ounce)             3000 non-null   float64\n",
      " 18  Real Estate Index                      3000 non-null   float64\n",
      " 19  Retail Sales (Billion USD)             3000 non-null   int64  \n",
      " 20  Bankruptcy Rate (%)                    3000 non-null   float64\n",
      " 21  Mergers & Acquisitions Deals           3000 non-null   int64  \n",
      " 22  Venture Capital Funding (Billion USD)  3000 non-null   float64\n",
      " 23  Consumer Spending (Billion USD)        3000 non-null   int64  \n",
      "dtypes: float64(15), int64(7), object(2)\n",
      "memory usage: 562.6+ KB\n"
     ]
    }
   ],
   "source": [
    "# 2. What are the column names and their data types?\n",
    "\n",
    "df.info()"
   ]
  },
  {
   "cell_type": "code",
   "execution_count": 7,
   "id": "43ea0a9c",
   "metadata": {},
   "outputs": [
    {
     "data": {
      "text/plain": [
       "3"
      ]
     },
     "execution_count": 7,
     "metadata": {},
     "output_type": "execute_result"
    }
   ],
   "source": [
    "# 3. How many unique stock indices are there?\n",
    "\n",
    "df['Stock Index'].nunique()"
   ]
  },
  {
   "cell_type": "code",
   "execution_count": 8,
   "id": "7d97b93f",
   "metadata": {},
   "outputs": [
    {
     "name": "stdout",
     "output_type": "stream",
     "text": [
      "Start date:2000-01-01\n",
      "End date:2008-03-18\n",
      "Date rrange in dataset is between 2000-01-01 and 2008-03-18\n"
     ]
    }
   ],
   "source": [
    "# 4. What is the date range of the dataset?\n",
    "\n",
    "Start_date=df['Date'].min()\n",
    "\n",
    "\n",
    "End_date=df['Date'].max()\n",
    "\n",
    "print(f\"Start date:{Start_date}\")\n",
    "print(f\"End date:{End_date}\")\n",
    "\n",
    "print(f\"Date rrange in dataset is between {Start_date} and {End_date}\")"
   ]
  },
  {
   "cell_type": "code",
   "execution_count": 9,
   "id": "c155a850",
   "metadata": {},
   "outputs": [
    {
     "data": {
      "text/plain": [
       "Date                                     0\n",
       "Stock Index                              0\n",
       "Open Price                               0\n",
       "Close Price                              0\n",
       "Daily High                               0\n",
       "Daily Low                                0\n",
       "Trading Volume                           0\n",
       "GDP Growth (%)                           0\n",
       "Inflation Rate (%)                       0\n",
       "Unemployment Rate (%)                    0\n",
       "Interest Rate (%)                        0\n",
       "Consumer Confidence Index                0\n",
       "Government Debt (Billion USD)            0\n",
       "Corporate Profits (Billion USD)          0\n",
       "Forex USD/EUR                            0\n",
       "Forex USD/JPY                            0\n",
       "Crude Oil Price (USD per Barrel)         0\n",
       "Gold Price (USD per Ounce)               0\n",
       "Real Estate Index                        0\n",
       "Retail Sales (Billion USD)               0\n",
       "Bankruptcy Rate (%)                      0\n",
       "Mergers & Acquisitions Deals             0\n",
       "Venture Capital Funding (Billion USD)    0\n",
       "Consumer Spending (Billion USD)          0\n",
       "dtype: int64"
      ]
     },
     "execution_count": 9,
     "metadata": {},
     "output_type": "execute_result"
    }
   ],
   "source": [
    "#5. Are there any missing values?\n",
    "# Ans. There are no missing value in dataset.\n",
    "\n",
    "df.isnull().sum()"
   ]
  },
  {
   "cell_type": "code",
   "execution_count": 10,
   "id": "297ff38f",
   "metadata": {},
   "outputs": [
    {
     "data": {
      "text/plain": [
       "Open Price                                 0\n",
       "Close Price                                0\n",
       "Daily High                                 0\n",
       "Daily Low                                  0\n",
       "Trading Volume                             0\n",
       "GDP Growth (%)                           947\n",
       "Inflation Rate (%)                         0\n",
       "Unemployment Rate (%)                      0\n",
       "Interest Rate (%)                          0\n",
       "Consumer Confidence Index                  0\n",
       "Government Debt (Billion USD)              0\n",
       "Corporate Profits (Billion USD)            0\n",
       "Forex USD/EUR                              0\n",
       "Forex USD/JPY                              0\n",
       "Crude Oil Price (USD per Barrel)           0\n",
       "Gold Price (USD per Ounce)                 0\n",
       "Real Estate Index                          0\n",
       "Retail Sales (Billion USD)                 0\n",
       "Bankruptcy Rate (%)                        0\n",
       "Mergers & Acquisitions Deals               0\n",
       "Venture Capital Funding (Billion USD)      0\n",
       "Consumer Spending (Billion USD)            0\n",
       "dtype: int64"
      ]
     },
     "execution_count": 10,
     "metadata": {},
     "output_type": "execute_result"
    }
   ],
   "source": [
    "# 6. Are there negative values in columns that should be non-negative?\n",
    "# There are only one column containes negative value that is GDP Growth which can be negative.\n",
    "\n",
    "\n",
    "columns = ['Open Price','Close Price','Daily High','Daily Low','Trading Volume','GDP Growth (%)','Inflation Rate (%)','Unemployment Rate (%)','Interest Rate (%)','Consumer Confidence Index','Government Debt (Billion USD)','Corporate Profits (Billion USD)','Forex USD/EUR','Forex USD/JPY','Crude Oil Price (USD per Barrel)','Gold Price (USD per Ounce)','Real Estate Index','Retail Sales (Billion USD)','Bankruptcy Rate (%)','Mergers & Acquisitions Deals','Venture Capital Funding (Billion USD)','Consumer Spending (Billion USD)']\n",
    "negetive_v=(df[columns]<0).sum()\n",
    "negetive_v"
   ]
  },
  {
   "cell_type": "code",
   "execution_count": 11,
   "id": "de61b6f5",
   "metadata": {},
   "outputs": [
    {
     "data": {
      "text/plain": [
       "count    3000.000000\n",
       "mean        2.608903\n",
       "std         4.287337\n",
       "min        -5.000000\n",
       "25%        -1.012500\n",
       "50%         2.725000\n",
       "75%         6.242500\n",
       "max        10.000000\n",
       "Name: GDP Growth (%), dtype: float64"
      ]
     },
     "execution_count": 11,
     "metadata": {},
     "output_type": "execute_result"
    }
   ],
   "source": [
    "#7. What is the summary of GDP Growth (%)?\n",
    "\n",
    "df['GDP Growth (%)'].describe()"
   ]
  },
  {
   "cell_type": "code",
   "execution_count": 12,
   "id": "23fbfb4d",
   "metadata": {},
   "outputs": [
    {
     "name": "stdout",
     "output_type": "stream",
     "text": [
      "Rows with zero trading volume are 0\n",
      "Rows eith near zero trading volume are 0\n"
     ]
    }
   ],
   "source": [
    "#8. Are there rows with zero or near-zero trading volume?\n",
    "# There are no rows with zero or near zero trading volume.\n",
    "\n",
    "zer_r=(df['Trading Volume'] == 0).sum()\n",
    "near_zero=(df['Trading Volume'] < 0.001).sum()\n",
    "\n",
    "print(f\"Rows with zero trading volume are {zer_r}\")\n",
    "print(f\"Rows eith near zero trading volume are {near_zero}\")\n"
   ]
  },
  {
   "cell_type": "code",
   "execution_count": 13,
   "id": "a421a053",
   "metadata": {},
   "outputs": [
    {
     "data": {
      "text/plain": [
       "np.int64(0)"
      ]
     },
     "execution_count": 13,
     "metadata": {},
     "output_type": "execute_result"
    }
   ],
   "source": [
    "# 9. Are there any duplicate rows?\n",
    "# There are no duplicate rows.\n",
    "\n",
    "df.duplicated().sum()\n"
   ]
  },
  {
   "cell_type": "code",
   "execution_count": 14,
   "id": "e75f81e6",
   "metadata": {},
   "outputs": [],
   "source": [
    "# 10. 10. Are there outliers in GDP, Gold, or Oil prices?\n",
    "\n",
    "\n"
   ]
  },
  {
   "cell_type": "code",
   "execution_count": 15,
   "id": "4ff7c322",
   "metadata": {},
   "outputs": [
    {
     "data": {
      "text/plain": [
       "count    3000.000000\n",
       "mean        5.096830\n",
       "std         2.910513\n",
       "min         0.010000\n",
       "25%         2.607500\n",
       "50%         5.110000\n",
       "75%         7.600000\n",
       "max        10.000000\n",
       "Name: Inflation Rate (%), dtype: float64"
      ]
     },
     "execution_count": 15,
     "metadata": {},
     "output_type": "execute_result"
    }
   ],
   "source": [
    "# 11.  What is the summary of Inflation Rate (%)?\n",
    "\n",
    "summary_i_r = df['Inflation Rate (%)'].describe()\n",
    "summary_i_r"
   ]
  },
  {
   "cell_type": "code",
   "execution_count": 16,
   "id": "03b05a8a",
   "metadata": {},
   "outputs": [
    {
     "data": {
      "text/plain": [
       "np.float64(8.663786666666667)"
      ]
     },
     "execution_count": 16,
     "metadata": {},
     "output_type": "execute_result"
    }
   ],
   "source": [
    "# 12. What is the average unemployment rate?\n",
    "\n",
    "df['Unemployment Rate (%)'].mean()"
   ]
  },
  {
   "cell_type": "code",
   "execution_count": 17,
   "id": "2f61d04e",
   "metadata": {},
   "outputs": [
    {
     "name": "stdout",
     "output_type": "stream",
     "text": [
      "641 index has the highest trading volume\n"
     ]
    }
   ],
   "source": [
    "# 13. Which index has the highest trading volume?\n",
    "\n",
    "highest_t_v=df['Trading Volume'].idxmax()\n",
    "\n",
    "print(f\"{highest_t_v} index has the highest trading volume\")\n"
   ]
  },
  {
   "cell_type": "code",
   "execution_count": 18,
   "id": "955cb340",
   "metadata": {},
   "outputs": [
    {
     "data": {
      "text/plain": [
       "Stock Index\n",
       "S&P 500      1036\n",
       "NASDAQ       1007\n",
       "Dow Jones     957\n",
       "Name: count, dtype: int64"
      ]
     },
     "execution_count": 18,
     "metadata": {},
     "output_type": "execute_result"
    }
   ],
   "source": [
    "# 14. How many stock records are from each index?\n",
    "\n",
    "df['Stock Index'].value_counts()"
   ]
  },
  {
   "cell_type": "code",
   "execution_count": 19,
   "id": "a949381b",
   "metadata": {},
   "outputs": [
    {
     "data": {
      "text/plain": [
       "np.float64(0.005732927235576248)"
      ]
     },
     "execution_count": 19,
     "metadata": {},
     "output_type": "execute_result"
    }
   ],
   "source": [
    "# 15. What is the correlation between inflation and interest rate?\n",
    "\n",
    "correlation = df['Inflation Rate (%)'].corr(df['Interest Rate (%)'])\n",
    "correlation\n",
    "\n"
   ]
  },
  {
   "cell_type": "code",
   "execution_count": 20,
   "id": "127c7bc8",
   "metadata": {},
   "outputs": [
    {
     "name": "stdout",
     "output_type": "stream",
     "text": [
      "Average Consumer Confidence Index is 85.036\n"
     ]
    }
   ],
   "source": [
    "# 16. What is the average Consumer Confidence Index?\n",
    "\n",
    "avg_cci=df['Consumer Confidence Index'].mean()\n",
    "\n",
    "print(f\"Average Consumer Confidence Index is {avg_cci}\")"
   ]
  },
  {
   "cell_type": "code",
   "execution_count": 21,
   "id": "e441c87e",
   "metadata": {},
   "outputs": [
    {
     "data": {
      "text/plain": [
       "'Trading Volume'"
      ]
     },
     "execution_count": 21,
     "metadata": {},
     "output_type": "execute_result"
    }
   ],
   "source": [
    "# 17.Which column has the highest standard deviation?\n",
    "# 'Trading Volume' column has the highest standard deviation.\n",
    "\n",
    "std_deviation=df[columns].std()\n",
    "\n",
    "std_deviation.idxmax()\n"
   ]
  },
  {
   "cell_type": "code",
   "execution_count": 22,
   "id": "3e8487df",
   "metadata": {},
   "outputs": [
    {
     "name": "stdout",
     "output_type": "stream",
     "text": [
      "Highest recorded gold price is 2499.66.\n"
     ]
    }
   ],
   "source": [
    "# 18.  What is the highest gold price recorded?\n",
    "\n",
    "Highest_gp=df['Gold Price (USD per Ounce)'].max()\n",
    "\n",
    "print(f\"Highest recorded gold price is {Highest_gp}.\")"
   ]
  },
  {
   "cell_type": "code",
   "execution_count": 23,
   "id": "ad07a6be",
   "metadata": {},
   "outputs": [
    {
     "name": "stdout",
     "output_type": "stream",
     "text": [
      "Highest crude price is 149.87 and recorded on 2001-11-22\n"
     ]
    }
   ],
   "source": [
    "# 19. Which date had the highest crude oil price\n",
    "\n",
    "\n",
    "highest_cp = df['Crude Oil Price (USD per Barrel)'].max()\n",
    "highest_crude_pi=df['Crude Oil Price (USD per Barrel)'].idxmax()\n",
    "\n",
    "date_hcp=df['Date'].iloc[691]\n",
    "\n",
    "print(f\"Highest crude price is {highest_cp} and recorded on {date_hcp}\")\n",
    "\n",
    "\n",
    "\n"
   ]
  },
  {
   "cell_type": "code",
   "execution_count": 24,
   "id": "6b5c8878",
   "metadata": {},
   "outputs": [
    {
     "name": "stdout",
     "output_type": "stream",
     "text": [
      "Average corporate profit is 2553.76\n"
     ]
    }
   ],
   "source": [
    "# 20.What is the average corporate profit?\n",
    "\n",
    "corporate_profit = df['Corporate Profits (Billion USD)'].mean()\n",
    "\n",
    "corporate_profit = round(corporate_profit,2)\n",
    "\n",
    "\n",
    "\n",
    "\n",
    "print(f\"Average corporate profit is {corporate_profit}\")"
   ]
  },
  {
   "cell_type": "markdown",
   "id": "4098ca2c",
   "metadata": {},
   "source": [
    "Insightful Analysis Questions "
   ]
  },
  {
   "cell_type": "code",
   "execution_count": 25,
   "id": "f893d760",
   "metadata": {},
   "outputs": [
    {
     "name": "stdout",
     "output_type": "stream",
     "text": [
      "<class 'pandas.core.frame.DataFrame'>\n",
      "RangeIndex: 3000 entries, 0 to 2999\n",
      "Data columns (total 24 columns):\n",
      " #   Column                                 Non-Null Count  Dtype  \n",
      "---  ------                                 --------------  -----  \n",
      " 0   Date                                   3000 non-null   object \n",
      " 1   Stock Index                            3000 non-null   object \n",
      " 2   Open Price                             3000 non-null   float64\n",
      " 3   Close Price                            3000 non-null   float64\n",
      " 4   Daily High                             3000 non-null   float64\n",
      " 5   Daily Low                              3000 non-null   float64\n",
      " 6   Trading Volume                         3000 non-null   int64  \n",
      " 7   GDP Growth (%)                         3000 non-null   float64\n",
      " 8   Inflation Rate (%)                     3000 non-null   float64\n",
      " 9   Unemployment Rate (%)                  3000 non-null   float64\n",
      " 10  Interest Rate (%)                      3000 non-null   float64\n",
      " 11  Consumer Confidence Index              3000 non-null   int64  \n",
      " 12  Government Debt (Billion USD)          3000 non-null   int64  \n",
      " 13  Corporate Profits (Billion USD)        3000 non-null   int64  \n",
      " 14  Forex USD/EUR                          3000 non-null   float64\n",
      " 15  Forex USD/JPY                          3000 non-null   float64\n",
      " 16  Crude Oil Price (USD per Barrel)       3000 non-null   float64\n",
      " 17  Gold Price (USD per Ounce)             3000 non-null   float64\n",
      " 18  Real Estate Index                      3000 non-null   float64\n",
      " 19  Retail Sales (Billion USD)             3000 non-null   int64  \n",
      " 20  Bankruptcy Rate (%)                    3000 non-null   float64\n",
      " 21  Mergers & Acquisitions Deals           3000 non-null   int64  \n",
      " 22  Venture Capital Funding (Billion USD)  3000 non-null   float64\n",
      " 23  Consumer Spending (Billion USD)        3000 non-null   int64  \n",
      "dtypes: float64(15), int64(7), object(2)\n",
      "memory usage: 562.6+ KB\n"
     ]
    }
   ],
   "source": [
    "df.info()"
   ]
  },
  {
   "cell_type": "code",
   "execution_count": 26,
   "id": "36c7cb8f",
   "metadata": {},
   "outputs": [
    {
     "name": "stdout",
     "output_type": "stream",
     "text": [
      "Percentage of nagetive GDP growth is 31.57%\n"
     ]
    }
   ],
   "source": [
    "#01. What percentage of the dataset shows negative GDP growth? \n",
    "\n",
    "Negative_growth=df[df['GDP Growth (%)'] < 0]['GDP Growth (%)'].count()\n",
    "\n",
    "total_rows = df[\"GDP Growth (%)\"].count()\n",
    "total_rows\n",
    "\n",
    "percentage = (Negative_growth/total_rows) *100\n",
    "\n",
    "print(f\"Percentage of nagetive GDP growth is {percentage:.2f}%\")\n",
    "\n",
    "\n",
    "\n"
   ]
  },
  {
   "cell_type": "code",
   "execution_count": 27,
   "id": "c670764b",
   "metadata": {},
   "outputs": [
    {
     "data": {
      "text/plain": [
       "np.float64(0.005732927235576248)"
      ]
     },
     "execution_count": 27,
     "metadata": {},
     "output_type": "execute_result"
    }
   ],
   "source": [
    "#02. Does high inflation correspond to higher interest rates? \n",
    "# --> Based on correlation it appears that high inflation does not correspond to higher interest rates as correlation seems very weak.\n",
    "\n",
    "correlation = df['Inflation Rate (%)'].corr(df['Interest Rate (%)'])\n",
    "correlation\n",
    "\n"
   ]
  },
  {
   "cell_type": "code",
   "execution_count": 28,
   "id": "67152f64",
   "metadata": {},
   "outputs": [
    {
     "data": {
      "text/plain": [
       "np.float64(0.018786001938759095)"
      ]
     },
     "execution_count": 28,
     "metadata": {},
     "output_type": "execute_result"
    }
   ],
   "source": [
    "#03.Is there a relationship between unemployment and consumer spending? \n",
    "# --> Based on correlation value is very close to zero so we can say that there is very weak/no relationship between unemployment and consumer spending.\n",
    "\n",
    "correlation = df['Unemployment Rate (%)'].corr(df['Consumer Spending (Billion USD)'])\n",
    "correlation\n",
    "\n"
   ]
  },
  {
   "cell_type": "code",
   "execution_count": 29,
   "id": "f59ac5af",
   "metadata": {},
   "outputs": [
    {
     "data": {
      "text/plain": [
       "np.float64(0.01800805588826958)"
      ]
     },
     "execution_count": 29,
     "metadata": {},
     "output_type": "execute_result"
    }
   ],
   "source": [
    "#04. Do higher corporate profits align with higher consumer confidence? \n",
    "\n",
    "\n",
    "correlation = df['Corporate Profits (Billion USD)'].corr(df['Consumer Confidence Index'])\n",
    "correlation\n"
   ]
  },
  {
   "cell_type": "code",
   "execution_count": 30,
   "id": "97882c6f",
   "metadata": {},
   "outputs": [
    {
     "data": {
      "image/png": "[encoded data removed]",
      "text/plain": [
       "<Figure size 1200x800 with 1 Axes>"
      ]
     },
     "metadata": {},
     "output_type": "display_data"
    }
   ],
   "source": [
    "#05. What’s the trend of crude oil prices over time? \n",
    "\n",
    "plt.figure(figsize=(12,8))\n",
    "sns.lineplot(data=df, x='Date', y='Crude Oil Price (USD per Barrel)')\n",
    "plt.title('Crude Oil Price Trend (2000-2025)')\n",
    "plt.xlabel('Date')\n",
    "plt.ylabel('Price (USD per Barrel)')\n",
    "plt.show()\n",
    "\n",
    "\n",
    "\n"
   ]
  },
  {
   "cell_type": "code",
   "execution_count": 31,
   "id": "066b92bf",
   "metadata": {},
   "outputs": [
    {
     "name": "stdout",
     "output_type": "stream",
     "text": [
      "  - Correlation for Dow Jones: -0.0109\n",
      "  - Correlation for S&P 500: -0.0262\n",
      "  - Correlation for NASDAQ: -0.0056\n",
      "A negative correlation suggests an inverse relationship (as one goes up, the other goes down).\n"
     ]
    }
   ],
   "source": [
    "#06. Are gold prices inversely related to stock performance? \n",
    "\n",
    "for index_name in df['Stock Index'].unique():\n",
    "    index_df = df[df['Stock Index'] == index_name]\n",
    "    corr = index_df['Gold Price (USD per Ounce)'].corr(index_df['Close Price'])\n",
    "    print(f\"  - Correlation for {index_name}: {corr:.4f}\")\n",
    "print(\"A negative correlation suggests an inverse relationship (as one goes up, the other goes down).\")"
   ]
  },
  {
   "cell_type": "code",
   "execution_count": 32,
   "id": "a7340d9c",
   "metadata": {},
   "outputs": [
    {
     "name": "stdout",
     "output_type": "stream",
     "text": [
      "The correlation between Government Debt and Consumer Confidence is: -0.0364\n"
     ]
    }
   ],
   "source": [
    "#07.Does government debt impact consumer confidence?\n",
    "\n",
    "corr = df[\"Government Debt (Billion USD)\"].corr(df[\"Consumer Confidence Index\"])\n",
    "corr\n",
    "\n",
    "print(f\"The correlation between Government Debt and Consumer Confidence is: {corr:.4f}\")"
   ]
  },
  {
   "cell_type": "code",
   "execution_count": 33,
   "id": "b84e8745",
   "metadata": {},
   "outputs": [
    {
     "name": "stdout",
     "output_type": "stream",
     "text": [
      "  - Correlation for NASDAQ: -0.0030\n"
     ]
    }
   ],
   "source": [
    "#08. How do mergers & acquisitions (M&A) activity correlate with stock index closing prices? \n",
    "\n",
    "for index_name in df['Stock Index'].unique():\n",
    "    index_df = df[df['Stock Index'] == index_name]\n",
    "    corr = index_df['Mergers & Acquisitions Deals'].corr(index_df['Close Price'])\n",
    "print(f\"  - Correlation for {index_name}: {corr:.4f}\")"
   ]
  },
  {
   "cell_type": "code",
   "execution_count": 34,
   "id": "90413cdb",
   "metadata": {},
   "outputs": [
    {
     "name": "stdout",
     "output_type": "stream",
     "text": [
      "The correlation between Retail Sales and GDP Growth is: -0.0143\n"
     ]
    }
   ],
   "source": [
    "\n",
    "#09. Is retail sales growth associated with GDP growth? \n",
    "\n",
    "corr = df[\"Retail Sales (Billion USD)\"].corr(df[\"GDP Growth (%)\"])\n",
    "corr\n",
    "print(f\"The correlation between Retail Sales and GDP Growth is: {corr:.4f}\")"
   ]
  },
  {
   "cell_type": "code",
   "execution_count": 35,
   "id": "05d15df3",
   "metadata": {},
   "outputs": [
    {
     "name": "stdout",
     "output_type": "stream",
     "text": [
      "  - Correlation for NASDAQ: 0.0030\n"
     ]
    }
   ],
   "source": [
    "#10.Is stock market performance linked to consumer spending?\n",
    "\n",
    "for index_name in df['Stock Index'].unique():\n",
    "    index_df = df[df['Stock Index'] == index_name]\n",
    "    corr = index_df['Close Price'].corr(index_df['Consumer Spending (Billion USD)'])\n",
    "print(f\"  - Correlation for {index_name}: {corr:.4f}\")"
   ]
  },
  {
   "cell_type": "code",
   "execution_count": 36,
   "id": "e1d9fc67",
   "metadata": {},
   "outputs": [
    {
     "name": "stdout",
     "output_type": "stream",
     "text": [
      "The index with the highest average closing price is --> Dow Jones \n",
      "from: Stock Index\n",
      "Dow Jones    3004.46\n",
      "NASDAQ       2985.91\n",
      "S&P 500      2955.29\n",
      "Name: Close Price, dtype: float64\n"
     ]
    }
   ],
   "source": [
    "#11. Which stock index had the highest average closing price? \n",
    "\n",
    "avg_closing = df.groupby(\"Stock Index\")['Close Price'].mean()\n",
    "highest_avg = avg_closing.idxmax()\n",
    "print(f\"The index with the highest average closing price is --> {highest_avg} \\nfrom: {avg_closing.round(2)}\")\n"
   ]
  },
  {
   "cell_type": "code",
   "execution_count": 37,
   "id": "71aff6ea",
   "metadata": {},
   "outputs": [
    {
     "name": "stdout",
     "output_type": "stream",
     "text": [
      " Relationship between unemployment and interest rate is : 0.02\n"
     ]
    }
   ],
   "source": [
    "#12. What is the relationship between interest rate and unemployment? \n",
    "\n",
    "corr = df[\"Unemployment Rate (%)\"].corr(df[\"Interest Rate (%)\"])\n",
    "\n",
    "print(f\" Relationship between unemployment and interest rate is : {corr:.2f}\")\n"
   ]
  },
  {
   "cell_type": "code",
   "execution_count": 38,
   "id": "c8c6fe25",
   "metadata": {},
   "outputs": [
    {
     "name": "stdout",
     "output_type": "stream",
     "text": [
      "The correlation between Consumer Confidence and Bankruptcy Rate is: -0.0163\n"
     ]
    }
   ],
   "source": [
    "#13.  Do lower consumer confidence values coincide with higher bankruptcy rates? \n",
    "\n",
    "confidence_corr = df[\"Consumer Confidence Index\"].corr(df[\"Bankruptcy Rate (%)\"])\n",
    "print(f\"The correlation between Consumer Confidence and Bankruptcy Rate is: {confidence_corr:.4f}\")\n"
   ]
  },
  {
   "cell_type": "code",
   "execution_count": null,
   "id": "a1120869",
   "metadata": {},
   "outputs": [
    {
     "name": "stdout",
     "output_type": "stream",
     "text": [
      "- For NASDAQ, the indicator with the highest absolute correlation is 'Forex USD/EUR' (0.0712).\n"
     ]
    }
   ],
   "source": [
    "#14.  Which indicator has the highest correlation with stock close price? \n",
    "\n",
    "\n",
    " # Exclude other price/volume columns and non-numeric columns\n",
    "columns = df.drop(columns=['Date', 'Stock Index', 'Open Price', 'Daily High', 'Daily Low', 'Trading Volume', 'Close Price'])\n",
    "for index_name in df['Stock Index'].unique():\n",
    "            index_df = df[df['Stock Index'] == index_name]\n",
    "            correlations = columns.corrwith(index_df['Close Price']).abs().sort_values(ascending=False)\n",
    "            highest_corr_indicator = correlations.index[0]\n",
    "            highest_corr_value = correlations.iloc[0]\n",
    "print(f\"- For {index_name}, the indicator with the highest absolute correlation is '{highest_corr_indicator}' ({highest_corr_value:.4f}).\")"
   ]
  },
  {
   "cell_type": "code",
   "execution_count": 40,
   "id": "dcaf6dcd",
   "metadata": {},
   "outputs": [
    {
     "name": "stdout",
     "output_type": "stream",
     "text": [
      "The correlation between Unemployment Rate and Corporate Profits is: 0.0083\n"
     ]
    }
   ],
   "source": [
    "#15.Are unemployment rates lower when corporate profits are high? \n",
    "\n",
    "unemployment_pr = df[\"Corporate Profits (Billion USD)\"].corr(df[\"Unemployment Rate (%)\"])\n",
    "\n",
    "print(f\"The correlation between Unemployment Rate and Corporate Profits is: {unemployment_pr:.4f}\")"
   ]
  },
  {
   "cell_type": "code",
   "execution_count": null,
   "id": "31fa5a24",
   "metadata": {},
   "outputs": [],
   "source": []
  }
 ],
 "metadata": {
  "kernelspec": {
   "display_name": "Python 3",
   "language": "python",
   "name": "python3"
  },
  "language_info": {
   "codemirror_mode": {
    "name": "ipython",
    "version": 3
   },
   "file_extension": ".py",
   "mimetype": "text/x-python",
   "name": "python",
   "nbconvert_exporter": "python",
   "pygments_lexer": "ipython3",
   "version": "3.13.5"
  }
 },
 "nbformat": 4,
 "nbformat_minor": 5
}
