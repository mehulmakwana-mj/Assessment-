{
 "cells": [
  {
   "cell_type": "code",
   "execution_count": 1,
   "id": "1cac4252",
   "metadata": {},
   "outputs": [],
   "source": [
    "import pandas as pd\n",
    "\n",
    "import numpy as np\n",
    "\n",
    "import matplotlib.pyplot as plt\n",
    "\n",
    "import seaborn as sns"
   ]
  },
  {
   "cell_type": "code",
   "execution_count": 2,
   "id": "d0ec804e",
   "metadata": {},
   "outputs": [
    {
     "data": {
      "text/html": [
       "<div>\n",
       "<style scoped>\n",
       "    .dataframe tbody tr th:only-of-type {\n",
       "        vertical-align: middle;\n",
       "    }\n",
       "\n",
       "    .dataframe tbody tr th {\n",
       "        vertical-align: top;\n",
       "    }\n",
       "\n",
       "    .dataframe thead th {\n",
       "        text-align: right;\n",
       "    }\n",
       "</style>\n",
       "<table border=\"1\" class=\"dataframe\">\n",
       "  <thead>\n",
       "    <tr style=\"text-align: right;\">\n",
       "      <th></th>\n",
       "      <th>Order No</th>\n",
       "      <th>Order Date</th>\n",
       "      <th>Customer Name</th>\n",
       "      <th>Address</th>\n",
       "      <th>City</th>\n",
       "      <th>State</th>\n",
       "      <th>Customer Type</th>\n",
       "      <th>Account Manager</th>\n",
       "      <th>Order Priority</th>\n",
       "      <th>Product Name</th>\n",
       "      <th>...</th>\n",
       "      <th>Cost Price</th>\n",
       "      <th>Retail Price</th>\n",
       "      <th>Profit Margin</th>\n",
       "      <th>Order Quantity</th>\n",
       "      <th>Sub Total</th>\n",
       "      <th>Discount %</th>\n",
       "      <th>Discount $</th>\n",
       "      <th>Order Total</th>\n",
       "      <th>Shipping Cost</th>\n",
       "      <th>Total</th>\n",
       "    </tr>\n",
       "  </thead>\n",
       "  <tbody>\n",
       "    <tr>\n",
       "      <th>0</th>\n",
       "      <td>4293-1</td>\n",
       "      <td>02-09-2014</td>\n",
       "      <td>Vivek Sundaresam</td>\n",
       "      <td>152 Bunnerong Road,Eastgardens</td>\n",
       "      <td>Sydney</td>\n",
       "      <td>NSW</td>\n",
       "      <td>Small Business</td>\n",
       "      <td>Tina Carlton</td>\n",
       "      <td>Critical</td>\n",
       "      <td>UGen Ultra Professional Cordless Optical Suite</td>\n",
       "      <td>...</td>\n",
       "      <td>$156.50</td>\n",
       "      <td>$300.97</td>\n",
       "      <td>$144.47</td>\n",
       "      <td>23.0</td>\n",
       "      <td>$4,533.52</td>\n",
       "      <td>2%</td>\n",
       "      <td>$194.83</td>\n",
       "      <td>$4,757.22</td>\n",
       "      <td>$7.18</td>\n",
       "      <td>$4,291.55</td>\n",
       "    </tr>\n",
       "    <tr>\n",
       "      <th>1</th>\n",
       "      <td>5001-1</td>\n",
       "      <td>24-10-2015</td>\n",
       "      <td>Shahid Hopkins</td>\n",
       "      <td>438 Victoria Avenue,Chatswood</td>\n",
       "      <td>Sydney</td>\n",
       "      <td>NSW</td>\n",
       "      <td>Corporate</td>\n",
       "      <td>Natasha Song</td>\n",
       "      <td>Medium</td>\n",
       "      <td>Bagged Rubber Bands</td>\n",
       "      <td>...</td>\n",
       "      <td>$0.24</td>\n",
       "      <td>$1.26</td>\n",
       "      <td>$1.02</td>\n",
       "      <td>8.0</td>\n",
       "      <td>$45.20</td>\n",
       "      <td>3%</td>\n",
       "      <td>$0.00</td>\n",
       "      <td>$45.90</td>\n",
       "      <td>$0.70</td>\n",
       "      <td>$46.91</td>\n",
       "    </tr>\n",
       "    <tr>\n",
       "      <th>2</th>\n",
       "      <td>5004-1</td>\n",
       "      <td>13-03-2014</td>\n",
       "      <td>Dennis Pardue</td>\n",
       "      <td>412 Brunswick St,Fitzroy</td>\n",
       "      <td>Melbourne</td>\n",
       "      <td>VIC</td>\n",
       "      <td>Consumer</td>\n",
       "      <td>Connor Betts</td>\n",
       "      <td>Not Specified</td>\n",
       "      <td>TechSavi Cordless Navigator Duo</td>\n",
       "      <td>...</td>\n",
       "      <td>$42.11</td>\n",
       "      <td>$80.98</td>\n",
       "      <td>$38.87</td>\n",
       "      <td>45.0</td>\n",
       "      <td>$873.32</td>\n",
       "      <td>4%</td>\n",
       "      <td>$72.23</td>\n",
       "      <td>$837.57</td>\n",
       "      <td>$7.18</td>\n",
       "      <td>$82.58</td>\n",
       "    </tr>\n",
       "    <tr>\n",
       "      <th>3</th>\n",
       "      <td>5009-1</td>\n",
       "      <td>18-02-2013</td>\n",
       "      <td>Sean Wendt</td>\n",
       "      <td>145 Ramsay St,Haberfield</td>\n",
       "      <td>Sydney</td>\n",
       "      <td>NSW</td>\n",
       "      <td>Small Business</td>\n",
       "      <td>Phoebe Gour</td>\n",
       "      <td>Critical</td>\n",
       "      <td>Artisan Printable Repositionable Plastic Tabs</td>\n",
       "      <td>...</td>\n",
       "      <td>$5.33</td>\n",
       "      <td>$8.60</td>\n",
       "      <td>$3.27</td>\n",
       "      <td>16.0</td>\n",
       "      <td>$73.52</td>\n",
       "      <td>1%</td>\n",
       "      <td>$4.35</td>\n",
       "      <td>$740.67</td>\n",
       "      <td>$6.19</td>\n",
       "      <td>$730.92</td>\n",
       "    </tr>\n",
       "    <tr>\n",
       "      <th>4</th>\n",
       "      <td>5010-1</td>\n",
       "      <td>13-09-2014</td>\n",
       "      <td>Christina Vanderzanden</td>\n",
       "      <td>188 Pitt Street,Sydney</td>\n",
       "      <td>Sydney</td>\n",
       "      <td>NSW</td>\n",
       "      <td>Small Business</td>\n",
       "      <td>Tina Carlton</td>\n",
       "      <td>Not Specified</td>\n",
       "      <td>Pizazz Drawing Pencil Set</td>\n",
       "      <td>...</td>\n",
       "      <td>$1.53</td>\n",
       "      <td>$2.78</td>\n",
       "      <td>$1.25</td>\n",
       "      <td>49.0</td>\n",
       "      <td>$138.46</td>\n",
       "      <td>7%</td>\n",
       "      <td>$5.95</td>\n",
       "      <td>$123.77</td>\n",
       "      <td>$1.34</td>\n",
       "      <td>$125.97</td>\n",
       "    </tr>\n",
       "    <tr>\n",
       "      <th>...</th>\n",
       "      <td>...</td>\n",
       "      <td>...</td>\n",
       "      <td>...</td>\n",
       "      <td>...</td>\n",
       "      <td>...</td>\n",
       "      <td>...</td>\n",
       "      <td>...</td>\n",
       "      <td>...</td>\n",
       "      <td>...</td>\n",
       "      <td>...</td>\n",
       "      <td>...</td>\n",
       "      <td>...</td>\n",
       "      <td>...</td>\n",
       "      <td>...</td>\n",
       "      <td>...</td>\n",
       "      <td>...</td>\n",
       "      <td>...</td>\n",
       "      <td>...</td>\n",
       "      <td>...</td>\n",
       "      <td>...</td>\n",
       "      <td>...</td>\n",
       "    </tr>\n",
       "    <tr>\n",
       "      <th>4995</th>\n",
       "      <td>6831-1</td>\n",
       "      <td>02-11-2016</td>\n",
       "      <td>Roland Murray</td>\n",
       "      <td>438 Victoria Avenue,Chatswood</td>\n",
       "      <td>Sydney</td>\n",
       "      <td>NSW</td>\n",
       "      <td>Corporate</td>\n",
       "      <td>Natasha Song</td>\n",
       "      <td>Critical</td>\n",
       "      <td>Artisan Hi-Liter Smear-Safe Highlighters</td>\n",
       "      <td>...</td>\n",
       "      <td>$2.98</td>\n",
       "      <td>$5.84</td>\n",
       "      <td>$2.86</td>\n",
       "      <td>35.0</td>\n",
       "      <td>$115.40</td>\n",
       "      <td>2%</td>\n",
       "      <td>$10.81</td>\n",
       "      <td>$104.09</td>\n",
       "      <td>$0.83</td>\n",
       "      <td>$101.22</td>\n",
       "    </tr>\n",
       "    <tr>\n",
       "      <th>4996</th>\n",
       "      <td>6847-1</td>\n",
       "      <td>16-12-2015</td>\n",
       "      <td>Patrick OBrill</td>\n",
       "      <td>63 Riley Street,Woolloomooloo</td>\n",
       "      <td>Sydney</td>\n",
       "      <td>NSW</td>\n",
       "      <td>Small Business</td>\n",
       "      <td>Tina Carlton</td>\n",
       "      <td>Not Specified</td>\n",
       "      <td>Smiths Colored Interoffice Envelopes</td>\n",
       "      <td>...</td>\n",
       "      <td>$19.83</td>\n",
       "      <td>$30.98</td>\n",
       "      <td>$11.15</td>\n",
       "      <td>49.0</td>\n",
       "      <td>$1,999.69</td>\n",
       "      <td>7%</td>\n",
       "      <td>$143.91</td>\n",
       "      <td>$1,947.75</td>\n",
       "      <td>$19.51</td>\n",
       "      <td>$1,052.55</td>\n",
       "    </tr>\n",
       "    <tr>\n",
       "      <th>4997</th>\n",
       "      <td>6922-1</td>\n",
       "      <td>28-09-2016</td>\n",
       "      <td>Troy Staebel</td>\n",
       "      <td>1-2/299 Sussex St,Sydney</td>\n",
       "      <td>Sydney</td>\n",
       "      <td>NSW</td>\n",
       "      <td>Consumer</td>\n",
       "      <td>Aanya Zhang</td>\n",
       "      <td>Low</td>\n",
       "      <td>Laser DVD-RAM discs</td>\n",
       "      <td>...</td>\n",
       "      <td>$20.18</td>\n",
       "      <td>$35.41</td>\n",
       "      <td>$15.23</td>\n",
       "      <td>19.0</td>\n",
       "      <td>$929.40</td>\n",
       "      <td>9%</td>\n",
       "      <td>$27.88</td>\n",
       "      <td>$901.52</td>\n",
       "      <td>$1.99</td>\n",
       "      <td>$921.03</td>\n",
       "    </tr>\n",
       "    <tr>\n",
       "      <th>4998</th>\n",
       "      <td>6939-1</td>\n",
       "      <td>18-06-2016</td>\n",
       "      <td>Shaun Weien</td>\n",
       "      <td>Shop 3/144 Wattle St,Ultimo</td>\n",
       "      <td>Sydney</td>\n",
       "      <td>NSW</td>\n",
       "      <td>Corporate</td>\n",
       "      <td>Samantha Chairs</td>\n",
       "      <td>Not Specified</td>\n",
       "      <td>Artisan 479 Labels</td>\n",
       "      <td>...</td>\n",
       "      <td>$1.59</td>\n",
       "      <td>$2.61</td>\n",
       "      <td>$1.02</td>\n",
       "      <td>23.0</td>\n",
       "      <td>$66.54</td>\n",
       "      <td>5%</td>\n",
       "      <td>$4.46</td>\n",
       "      <td>$63.77</td>\n",
       "      <td>$0.50</td>\n",
       "      <td>$64.27</td>\n",
       "    </tr>\n",
       "    <tr>\n",
       "      <th>4999</th>\n",
       "      <td>6980-1</td>\n",
       "      <td>12-08-2015</td>\n",
       "      <td>Nora Pelletier</td>\n",
       "      <td>5/250 Old Northern Road,Castle Hill</td>\n",
       "      <td>Sydney</td>\n",
       "      <td>NSW</td>\n",
       "      <td>Consumer</td>\n",
       "      <td>Nicholas Fernandes</td>\n",
       "      <td>Low</td>\n",
       "      <td>Binder Posts</td>\n",
       "      <td>...</td>\n",
       "      <td>$3.50</td>\n",
       "      <td>$5.74</td>\n",
       "      <td>$2.24</td>\n",
       "      <td>31.0</td>\n",
       "      <td>$213.34</td>\n",
       "      <td>0%</td>\n",
       "      <td>$4.67</td>\n",
       "      <td>$216.51</td>\n",
       "      <td>$5.01</td>\n",
       "      <td>$221.52</td>\n",
       "    </tr>\n",
       "  </tbody>\n",
       "</table>\n",
       "<p>5000 rows × 24 columns</p>\n",
       "</div>"
      ],
      "text/plain": [
       "     Order No  Order Date           Customer Name  \\\n",
       "0      4293-1  02-09-2014        Vivek Sundaresam   \n",
       "1      5001-1  24-10-2015          Shahid Hopkins   \n",
       "2      5004-1  13-03-2014           Dennis Pardue   \n",
       "3      5009-1  18-02-2013              Sean Wendt   \n",
       "4      5010-1  13-09-2014  Christina Vanderzanden   \n",
       "...       ...         ...                     ...   \n",
       "4995   6831-1  02-11-2016           Roland Murray   \n",
       "4996   6847-1  16-12-2015          Patrick OBrill   \n",
       "4997   6922-1  28-09-2016            Troy Staebel   \n",
       "4998   6939-1  18-06-2016             Shaun Weien   \n",
       "4999   6980-1  12-08-2015          Nora Pelletier   \n",
       "\n",
       "                                  Address       City State   Customer Type  \\\n",
       "0          152 Bunnerong Road,Eastgardens     Sydney   NSW  Small Business   \n",
       "1           438 Victoria Avenue,Chatswood     Sydney   NSW       Corporate   \n",
       "2                412 Brunswick St,Fitzroy  Melbourne   VIC        Consumer   \n",
       "3                145 Ramsay St,Haberfield     Sydney   NSW  Small Business   \n",
       "4                  188 Pitt Street,Sydney     Sydney   NSW  Small Business   \n",
       "...                                   ...        ...   ...             ...   \n",
       "4995        438 Victoria Avenue,Chatswood     Sydney   NSW       Corporate   \n",
       "4996        63 Riley Street,Woolloomooloo     Sydney   NSW  Small Business   \n",
       "4997             1-2/299 Sussex St,Sydney     Sydney   NSW        Consumer   \n",
       "4998          Shop 3/144 Wattle St,Ultimo     Sydney   NSW       Corporate   \n",
       "4999  5/250 Old Northern Road,Castle Hill     Sydney   NSW        Consumer   \n",
       "\n",
       "         Account Manager Order Priority  \\\n",
       "0           Tina Carlton       Critical   \n",
       "1           Natasha Song         Medium   \n",
       "2           Connor Betts  Not Specified   \n",
       "3            Phoebe Gour       Critical   \n",
       "4           Tina Carlton  Not Specified   \n",
       "...                  ...            ...   \n",
       "4995        Natasha Song       Critical   \n",
       "4996        Tina Carlton  Not Specified   \n",
       "4997         Aanya Zhang            Low   \n",
       "4998     Samantha Chairs  Not Specified   \n",
       "4999  Nicholas Fernandes            Low   \n",
       "\n",
       "                                        Product Name  ... Cost Price  \\\n",
       "0     UGen Ultra Professional Cordless Optical Suite  ...    $156.50   \n",
       "1                                Bagged Rubber Bands  ...      $0.24   \n",
       "2                    TechSavi Cordless Navigator Duo  ...     $42.11   \n",
       "3      Artisan Printable Repositionable Plastic Tabs  ...      $5.33   \n",
       "4                          Pizazz Drawing Pencil Set  ...      $1.53   \n",
       "...                                              ...  ...        ...   \n",
       "4995        Artisan Hi-Liter Smear-Safe Highlighters  ...      $2.98   \n",
       "4996            Smiths Colored Interoffice Envelopes  ...     $19.83   \n",
       "4997                             Laser DVD-RAM discs  ...     $20.18   \n",
       "4998                              Artisan 479 Labels  ...      $1.59   \n",
       "4999                                    Binder Posts  ...      $3.50   \n",
       "\n",
       "     Retail Price Profit Margin Order Quantity  Sub Total Discount %  \\\n",
       "0         $300.97       $144.47           23.0  $4,533.52         2%   \n",
       "1           $1.26         $1.02            8.0     $45.20         3%   \n",
       "2          $80.98        $38.87           45.0    $873.32         4%   \n",
       "3           $8.60         $3.27           16.0     $73.52         1%   \n",
       "4           $2.78         $1.25           49.0    $138.46         7%   \n",
       "...           ...           ...            ...        ...        ...   \n",
       "4995        $5.84         $2.86           35.0    $115.40         2%   \n",
       "4996       $30.98        $11.15           49.0  $1,999.69         7%   \n",
       "4997       $35.41        $15.23           19.0    $929.40         9%   \n",
       "4998        $2.61         $1.02           23.0     $66.54         5%   \n",
       "4999        $5.74         $2.24           31.0    $213.34         0%   \n",
       "\n",
       "     Discount $  Order Total Shipping Cost      Total  \n",
       "0       $194.83    $4,757.22         $7.18  $4,291.55  \n",
       "1         $0.00       $45.90         $0.70     $46.91  \n",
       "2        $72.23      $837.57         $7.18     $82.58  \n",
       "3         $4.35      $740.67         $6.19    $730.92  \n",
       "4         $5.95      $123.77         $1.34    $125.97  \n",
       "...         ...          ...           ...        ...  \n",
       "4995     $10.81      $104.09         $0.83    $101.22  \n",
       "4996    $143.91    $1,947.75        $19.51  $1,052.55  \n",
       "4997     $27.88      $901.52         $1.99    $921.03  \n",
       "4998      $4.46       $63.77         $0.50     $64.27  \n",
       "4999      $4.67      $216.51         $5.01    $221.52  \n",
       "\n",
       "[5000 rows x 24 columns]"
      ]
     },
     "execution_count": 2,
     "metadata": {},
     "output_type": "execute_result"
    }
   ],
   "source": [
    "df = pd.read_csv(\"Retail Data.csv\")\n",
    "df"
   ]
  },
  {
   "cell_type": "code",
   "execution_count": 3,
   "id": "6e1622bf",
   "metadata": {},
   "outputs": [
    {
     "name": "stdout",
     "output_type": "stream",
     "text": [
      "<class 'pandas.core.frame.DataFrame'>\n",
      "RangeIndex: 5000 entries, 0 to 4999\n",
      "Data columns (total 24 columns):\n",
      " #   Column             Non-Null Count  Dtype  \n",
      "---  ------             --------------  -----  \n",
      " 0   Order No           5000 non-null   object \n",
      " 1   Order Date         5000 non-null   object \n",
      " 2   Customer Name      5000 non-null   object \n",
      " 3   Address            4999 non-null   object \n",
      " 4   City               5000 non-null   object \n",
      " 5   State              5000 non-null   object \n",
      " 6   Customer Type      5000 non-null   object \n",
      " 7   Account Manager    5000 non-null   object \n",
      " 8   Order Priority     5000 non-null   object \n",
      " 9   Product Name       5000 non-null   object \n",
      " 10  Product Category   5000 non-null   object \n",
      " 11  Product Container  5000 non-null   object \n",
      " 12  Ship Mode          5000 non-null   object \n",
      " 13  Ship Date          5000 non-null   object \n",
      " 14  Cost Price         5000 non-null   object \n",
      " 15  Retail Price       5000 non-null   object \n",
      " 16  Profit Margin      5000 non-null   object \n",
      " 17  Order Quantity     4999 non-null   float64\n",
      " 18  Sub Total          5000 non-null   object \n",
      " 19  Discount %         5000 non-null   object \n",
      " 20  Discount $         5000 non-null   object \n",
      " 21  Order Total        5000 non-null   object \n",
      " 22  Shipping Cost      5000 non-null   object \n",
      " 23  Total              5000 non-null   object \n",
      "dtypes: float64(1), object(23)\n",
      "memory usage: 937.6+ KB\n"
     ]
    }
   ],
   "source": [
    "#01.  View the structure of the dataset (columns, types, missing values). \n",
    "\n",
    "df.info()"
   ]
  },
  {
   "cell_type": "code",
   "execution_count": 4,
   "id": "77c5b872",
   "metadata": {},
   "outputs": [
    {
     "data": {
      "text/plain": [
       "(5000, 24)"
      ]
     },
     "execution_count": 4,
     "metadata": {},
     "output_type": "execute_result"
    }
   ],
   "source": [
    "#02. What is the shape (rows, columns) of the dataset? \n",
    "\n",
    "df.shape"
   ]
  },
  {
   "cell_type": "code",
   "execution_count": 5,
   "id": "421a719d",
   "metadata": {},
   "outputs": [
    {
     "data": {
      "text/plain": [
       "np.int64(0)"
      ]
     },
     "execution_count": 5,
     "metadata": {},
     "output_type": "execute_result"
    }
   ],
   "source": [
    "#03. Are there any duplicate records?\\\n",
    "\n",
    "df.duplicated().sum()"
   ]
  },
  {
   "cell_type": "code",
   "execution_count": 6,
   "id": "c45b360b",
   "metadata": {},
   "outputs": [
    {
     "data": {
      "text/plain": [
       "Order Date        0\n",
       "Ship Date         0\n",
       "Cost Price        0\n",
       "Retail Price      0\n",
       "Profit Margin     0\n",
       "Order Quantity    1\n",
       "Sub Total         0\n",
       "Discount %        0\n",
       "Order Total       0\n",
       "Shipping Cost     0\n",
       "Total             0\n",
       "dtype: int64"
      ]
     },
     "execution_count": 6,
     "metadata": {},
     "output_type": "execute_result"
    }
   ],
   "source": [
    "#04. Are there any missing or corrupted entries in Ship Date, Order Date, or numeric columns?\n",
    "\n",
    "columns = [\"Order Date\",\"Ship Date\",\"Cost Price\",\"Retail Price\",\"Profit Margin\",\"Order Quantity\",\"Sub Total\",\"Discount %\",\"Order Total\",\"Shipping Cost\",\"Total\"]\n",
    "\n",
    "df[columns].isnull().sum()"
   ]
  },
  {
   "cell_type": "code",
   "execution_count": 7,
   "id": "6832fd82",
   "metadata": {},
   "outputs": [
    {
     "name": "stdout",
     "output_type": "stream",
     "text": [
      "datetime64[ns]\n",
      "datetime64[ns]\n"
     ]
    }
   ],
   "source": [
    "# #05. Convert Order Date and Ship Date to datetime. \n",
    "\n",
    "df[\"Order Date\"] = pd.to_datetime(df[\"Order Date\"],errors='coerce',dayfirst=True)\n",
    "\n",
    "df[\"Ship Date\"] = pd.to_datetime(df[\"Ship Date\"],errors='coerce',dayfirst=True)\n",
    "\n",
    "df\n",
    "\n",
    "print(df[\"Order Date\"].dtype)\n",
    "print(df[\"Ship Date\"].dtype)\n",
    "\n"
   ]
  },
  {
   "cell_type": "code",
   "execution_count": 8,
   "id": "1e90c2cf",
   "metadata": {},
   "outputs": [
    {
     "name": "stdout",
     "output_type": "stream",
     "text": [
      "---Future dates----\n",
      "No Future dates found\n",
      "Found 5000 entries with future date\n",
      "0       4293-1\n",
      "1       5001-1\n",
      "2       5004-1\n",
      "3       5009-1\n",
      "4       5010-1\n",
      "         ...  \n",
      "4995    6831-1\n",
      "4996    6847-1\n",
      "4997    6922-1\n",
      "4998    6939-1\n",
      "4999    6980-1\n",
      "Name: Order No, Length: 5000, dtype: object ['Order Date'] ['Ship date']\n"
     ]
    }
   ],
   "source": [
    "#06. Check for future or inconsistent shipping dates. \n",
    "\n",
    "current_date = pd.to_datetime('now')\n",
    "\n",
    "#checking for Future_shipping date\n",
    "future_date = df[df[\"Ship Date\"] > current_date] \n",
    "\n",
    "print(\"---Future dates----\")\n",
    "if not future_date.empty:\n",
    "    print(f\"Found {len(future_date)} entries with future date\")\n",
    "    print(future_date[\"Order No\"],[\"Order Date\"],[\"Ship date\"])\n",
    "else:\n",
    "    print(\"No Future dates found\")\n",
    "\n",
    "# checking for Inconsistent date\n",
    "Inconsistent_date = df[df[\"Ship Date\"] < current_date] \n",
    "\n",
    "if not Inconsistent_date.empty:\n",
    "    print(f\"Found {len(Inconsistent_date)} entries with future date\")\n",
    "    print(Inconsistent_date[\"Order No\"],[\"Order Date\"],[\"Ship date\"])\n",
    "else:\n",
    "    print(\"No Inconsistent date found\")"
   ]
  },
  {
   "cell_type": "code",
   "execution_count": 9,
   "id": "500ddefc",
   "metadata": {},
   "outputs": [
    {
     "name": "stdout",
     "output_type": "stream",
     "text": [
      "Cost Price      float64\n",
      "Retail Price    float64\n",
      "dtype: object\n"
     ]
    }
   ],
   "source": [
    "#07. Convert price columns to numeric (remove $ and commas). \n",
    "\n",
    "price_column = [\"Cost Price\",\"Retail Price\"]\n",
    "\n",
    "for col in price_column:\n",
    "    df[col]=df[col].str.replace('$', \" \",regex=False)\n",
    "    df[col]=df[col].str.replace(',',\" \",regex=False)\n",
    "    df[col] = pd.to_numeric(df[col],errors=\"coerce\")\n",
    "print(df[price_column].dtypes)"
   ]
  },
  {
   "cell_type": "code",
   "execution_count": 10,
   "id": "072cbff4",
   "metadata": {},
   "outputs": [
    {
     "name": "stdout",
     "output_type": "stream",
     "text": [
      "Unique values in customer types are:\n",
      "['Small Business' 'Corporate' 'Consumer' 'Home Office']\n",
      "Unique values in customer types are:\n",
      "['Critical' 'Medium' 'Not Specified' 'Low' 'High']\n"
     ]
    }
   ],
   "source": [
    "#08.What are the unique values in Customer Type and Order Priority? \n",
    "\n",
    "\n",
    "ct_unique =df[\"Customer Type\"].unique()\n",
    "print(f\"Unique values in customer types are:\\n{ct_unique}\")\n",
    "\n",
    "op_unique =df[\"Order Priority\"].unique()\n",
    "print(f\"Unique values in customer types are:\\n{op_unique}\")\n",
    "\n",
    "\n"
   ]
  },
  {
   "cell_type": "code",
   "execution_count": 11,
   "id": "6041a786",
   "metadata": {},
   "outputs": [
    {
     "name": "stdout",
     "output_type": "stream",
     "text": [
      "Most common mode of shippinf is :- Regular Air\n"
     ]
    }
   ],
   "source": [
    "#09.what are the most common shipping modes? \n",
    "\n",
    "common_mode =df[\"Ship Mode\"].max()\n",
    "print(f\"Most common mode of shippinf is :- {common_mode}\")"
   ]
  },
  {
   "cell_type": "code",
   "execution_count": 12,
   "id": "3215accd",
   "metadata": {},
   "outputs": [
    {
     "data": {
      "text/plain": [
       "City\n",
       "Sydney       3584\n",
       "Melbourne    1416\n",
       "Name: Order No, dtype: int64"
      ]
     },
     "execution_count": 12,
     "metadata": {},
     "output_type": "execute_result"
    }
   ],
   "source": [
    "#10.  Which cities have the highest number of orders? \n",
    "\n",
    "cities = df.groupby(\"City\")[\"Order No\"].count().sort_values(ascending=False)\n",
    "cities"
   ]
  },
  {
   "cell_type": "code",
   "execution_count": null,
   "id": "2c225172",
   "metadata": {},
   "outputs": [
    {
     "name": "stdout",
     "output_type": "stream",
     "text": [
      " Range of Order Quantities is in between 1.0 to 50.0\n",
      " Range of Price is in between 0.24 to 377.99\n"
     ]
    }
   ],
   "source": [
    "#11. Whats the range of order quantities and prices? \n",
    "\n",
    "# Range of order quantities \n",
    "max_order = df[\"Order Quantity\"].max()\n",
    "min_order = df[\"Order Quantity\"].min()\n",
    "\n",
    "print(f\" Range of Order Quantities is in between {min_order} to {max_order}\")\n",
    "\n",
    "# Range of order prices\n",
    "max_Price = df[\"Cost Price\"].max()\n",
    "min_Price= df[\"Cost Price\"].min()\n",
    "\n",
    "print(f\" Range of Price is in between {min_Price} to {max_Price}\")\n"
   ]
  },
  {
   "cell_type": "code",
   "execution_count": 14,
   "id": "bdd3d39d",
   "metadata": {},
   "outputs": [
    {
     "name": "stdout",
     "output_type": "stream",
     "text": [
      "<class 'pandas.core.frame.DataFrame'>\n",
      "RangeIndex: 5000 entries, 0 to 4999\n",
      "Data columns (total 25 columns):\n",
      " #   Column             Non-Null Count  Dtype          \n",
      "---  ------             --------------  -----          \n",
      " 0   Order No           5000 non-null   object         \n",
      " 1   Order Date         5000 non-null   datetime64[ns] \n",
      " 2   Customer Name      5000 non-null   object         \n",
      " 3   Address            4999 non-null   object         \n",
      " 4   City               5000 non-null   object         \n",
      " 5   State              5000 non-null   object         \n",
      " 6   Customer Type      5000 non-null   object         \n",
      " 7   Account Manager    5000 non-null   object         \n",
      " 8   Order Priority     5000 non-null   object         \n",
      " 9   Product Name       5000 non-null   object         \n",
      " 10  Product Category   5000 non-null   object         \n",
      " 11  Product Container  5000 non-null   object         \n",
      " 12  Ship Mode          5000 non-null   object         \n",
      " 13  Ship Date          5000 non-null   datetime64[ns] \n",
      " 14  Cost Price         5000 non-null   float64        \n",
      " 15  Retail Price       5000 non-null   float64        \n",
      " 16  Profit Margin      5000 non-null   object         \n",
      " 17  Order Quantity     4999 non-null   float64        \n",
      " 18  Sub Total          5000 non-null   object         \n",
      " 19  Discount %         5000 non-null   object         \n",
      " 20  Discount $         5000 non-null   object         \n",
      " 21  Order Total        5000 non-null   object         \n",
      " 22  Shipping Cost      5000 non-null   object         \n",
      " 23  Total              5000 non-null   object         \n",
      " 24  Shipping_duration  5000 non-null   timedelta64[ns]\n",
      "dtypes: datetime64[ns](2), float64(3), object(19), timedelta64[ns](1)\n",
      "memory usage: 976.7+ KB\n"
     ]
    }
   ],
   "source": [
    "#12. Create a new column for shipping duration. \n",
    "\n",
    "df[\"Shipping_duration\"]=df[\"Ship Date\"]-df[\"Order Date\"]\n",
    "\n",
    "df.info()"
   ]
  },
  {
   "cell_type": "code",
   "execution_count": 15,
   "id": "00982a7d",
   "metadata": {},
   "outputs": [
    {
     "data": {
      "text/html": [
       "<div>\n",
       "<style scoped>\n",
       "    .dataframe tbody tr th:only-of-type {\n",
       "        vertical-align: middle;\n",
       "    }\n",
       "\n",
       "    .dataframe tbody tr th {\n",
       "        vertical-align: top;\n",
       "    }\n",
       "\n",
       "    .dataframe thead th {\n",
       "        text-align: right;\n",
       "    }\n",
       "</style>\n",
       "<table border=\"1\" class=\"dataframe\">\n",
       "  <thead>\n",
       "    <tr style=\"text-align: right;\">\n",
       "      <th></th>\n",
       "      <th>Order No</th>\n",
       "      <th>Order Date</th>\n",
       "      <th>Customer Name</th>\n",
       "      <th>Address</th>\n",
       "      <th>City</th>\n",
       "      <th>State</th>\n",
       "      <th>Customer Type</th>\n",
       "      <th>Account Manager</th>\n",
       "      <th>Order Priority</th>\n",
       "      <th>Product Name</th>\n",
       "      <th>...</th>\n",
       "      <th>Retail Price</th>\n",
       "      <th>Profit Margin</th>\n",
       "      <th>Order Quantity</th>\n",
       "      <th>Sub Total</th>\n",
       "      <th>Discount %</th>\n",
       "      <th>Discount $</th>\n",
       "      <th>Order Total</th>\n",
       "      <th>Shipping Cost</th>\n",
       "      <th>Total</th>\n",
       "      <th>Shipping_duration</th>\n",
       "    </tr>\n",
       "  </thead>\n",
       "  <tbody>\n",
       "    <tr>\n",
       "      <th>0</th>\n",
       "      <td>4293-1</td>\n",
       "      <td>2014-09-02</td>\n",
       "      <td>Vivek Sundaresam</td>\n",
       "      <td>152 Bunnerong Road,Eastgardens</td>\n",
       "      <td>Sydney</td>\n",
       "      <td>NSW</td>\n",
       "      <td>Small Business</td>\n",
       "      <td>Tina Carlton</td>\n",
       "      <td>Critical</td>\n",
       "      <td>UGen Ultra Professional Cordless Optical Suite</td>\n",
       "      <td>...</td>\n",
       "      <td>300.97</td>\n",
       "      <td>$144.47</td>\n",
       "      <td>23.0</td>\n",
       "      <td>$4,533.52</td>\n",
       "      <td>2%</td>\n",
       "      <td>$194.83</td>\n",
       "      <td>$4,757.22</td>\n",
       "      <td>$7.18</td>\n",
       "      <td>$4,291.55</td>\n",
       "      <td>2 days</td>\n",
       "    </tr>\n",
       "    <tr>\n",
       "      <th>1</th>\n",
       "      <td>5001-1</td>\n",
       "      <td>2015-10-24</td>\n",
       "      <td>Shahid Hopkins</td>\n",
       "      <td>438 Victoria Avenue,Chatswood</td>\n",
       "      <td>Sydney</td>\n",
       "      <td>NSW</td>\n",
       "      <td>Corporate</td>\n",
       "      <td>Natasha Song</td>\n",
       "      <td>Medium</td>\n",
       "      <td>Bagged Rubber Bands</td>\n",
       "      <td>...</td>\n",
       "      <td>1.26</td>\n",
       "      <td>$1.02</td>\n",
       "      <td>8.0</td>\n",
       "      <td>$45.20</td>\n",
       "      <td>3%</td>\n",
       "      <td>$0.00</td>\n",
       "      <td>$45.90</td>\n",
       "      <td>$0.70</td>\n",
       "      <td>$46.91</td>\n",
       "      <td>2 days</td>\n",
       "    </tr>\n",
       "    <tr>\n",
       "      <th>2</th>\n",
       "      <td>5004-1</td>\n",
       "      <td>2014-03-13</td>\n",
       "      <td>Dennis Pardue</td>\n",
       "      <td>412 Brunswick St,Fitzroy</td>\n",
       "      <td>Melbourne</td>\n",
       "      <td>VIC</td>\n",
       "      <td>Consumer</td>\n",
       "      <td>Connor Betts</td>\n",
       "      <td>Not Specified</td>\n",
       "      <td>TechSavi Cordless Navigator Duo</td>\n",
       "      <td>...</td>\n",
       "      <td>80.98</td>\n",
       "      <td>$38.87</td>\n",
       "      <td>45.0</td>\n",
       "      <td>$873.32</td>\n",
       "      <td>4%</td>\n",
       "      <td>$72.23</td>\n",
       "      <td>$837.57</td>\n",
       "      <td>$7.18</td>\n",
       "      <td>$82.58</td>\n",
       "      <td>0 days</td>\n",
       "    </tr>\n",
       "    <tr>\n",
       "      <th>3</th>\n",
       "      <td>5009-1</td>\n",
       "      <td>2013-02-18</td>\n",
       "      <td>Sean Wendt</td>\n",
       "      <td>145 Ramsay St,Haberfield</td>\n",
       "      <td>Sydney</td>\n",
       "      <td>NSW</td>\n",
       "      <td>Small Business</td>\n",
       "      <td>Phoebe Gour</td>\n",
       "      <td>Critical</td>\n",
       "      <td>Artisan Printable Repositionable Plastic Tabs</td>\n",
       "      <td>...</td>\n",
       "      <td>8.60</td>\n",
       "      <td>$3.27</td>\n",
       "      <td>16.0</td>\n",
       "      <td>$73.52</td>\n",
       "      <td>1%</td>\n",
       "      <td>$4.35</td>\n",
       "      <td>$740.67</td>\n",
       "      <td>$6.19</td>\n",
       "      <td>$730.92</td>\n",
       "      <td>2 days</td>\n",
       "    </tr>\n",
       "    <tr>\n",
       "      <th>4</th>\n",
       "      <td>5010-1</td>\n",
       "      <td>2014-09-13</td>\n",
       "      <td>Christina Vanderzanden</td>\n",
       "      <td>188 Pitt Street,Sydney</td>\n",
       "      <td>Sydney</td>\n",
       "      <td>NSW</td>\n",
       "      <td>Small Business</td>\n",
       "      <td>Tina Carlton</td>\n",
       "      <td>Not Specified</td>\n",
       "      <td>Pizazz Drawing Pencil Set</td>\n",
       "      <td>...</td>\n",
       "      <td>2.78</td>\n",
       "      <td>$1.25</td>\n",
       "      <td>49.0</td>\n",
       "      <td>$138.46</td>\n",
       "      <td>7%</td>\n",
       "      <td>$5.95</td>\n",
       "      <td>$123.77</td>\n",
       "      <td>$1.34</td>\n",
       "      <td>$125.97</td>\n",
       "      <td>4 days</td>\n",
       "    </tr>\n",
       "    <tr>\n",
       "      <th>...</th>\n",
       "      <td>...</td>\n",
       "      <td>...</td>\n",
       "      <td>...</td>\n",
       "      <td>...</td>\n",
       "      <td>...</td>\n",
       "      <td>...</td>\n",
       "      <td>...</td>\n",
       "      <td>...</td>\n",
       "      <td>...</td>\n",
       "      <td>...</td>\n",
       "      <td>...</td>\n",
       "      <td>...</td>\n",
       "      <td>...</td>\n",
       "      <td>...</td>\n",
       "      <td>...</td>\n",
       "      <td>...</td>\n",
       "      <td>...</td>\n",
       "      <td>...</td>\n",
       "      <td>...</td>\n",
       "      <td>...</td>\n",
       "      <td>...</td>\n",
       "    </tr>\n",
       "    <tr>\n",
       "      <th>4995</th>\n",
       "      <td>6831-1</td>\n",
       "      <td>2016-11-02</td>\n",
       "      <td>Roland Murray</td>\n",
       "      <td>438 Victoria Avenue,Chatswood</td>\n",
       "      <td>Sydney</td>\n",
       "      <td>NSW</td>\n",
       "      <td>Corporate</td>\n",
       "      <td>Natasha Song</td>\n",
       "      <td>Critical</td>\n",
       "      <td>Artisan Hi-Liter Smear-Safe Highlighters</td>\n",
       "      <td>...</td>\n",
       "      <td>5.84</td>\n",
       "      <td>$2.86</td>\n",
       "      <td>35.0</td>\n",
       "      <td>$115.40</td>\n",
       "      <td>2%</td>\n",
       "      <td>$10.81</td>\n",
       "      <td>$104.09</td>\n",
       "      <td>$0.83</td>\n",
       "      <td>$101.22</td>\n",
       "      <td>4 days</td>\n",
       "    </tr>\n",
       "    <tr>\n",
       "      <th>4996</th>\n",
       "      <td>6847-1</td>\n",
       "      <td>2015-12-16</td>\n",
       "      <td>Patrick OBrill</td>\n",
       "      <td>63 Riley Street,Woolloomooloo</td>\n",
       "      <td>Sydney</td>\n",
       "      <td>NSW</td>\n",
       "      <td>Small Business</td>\n",
       "      <td>Tina Carlton</td>\n",
       "      <td>Not Specified</td>\n",
       "      <td>Smiths Colored Interoffice Envelopes</td>\n",
       "      <td>...</td>\n",
       "      <td>30.98</td>\n",
       "      <td>$11.15</td>\n",
       "      <td>49.0</td>\n",
       "      <td>$1,999.69</td>\n",
       "      <td>7%</td>\n",
       "      <td>$143.91</td>\n",
       "      <td>$1,947.75</td>\n",
       "      <td>$19.51</td>\n",
       "      <td>$1,052.55</td>\n",
       "      <td>2 days</td>\n",
       "    </tr>\n",
       "    <tr>\n",
       "      <th>4997</th>\n",
       "      <td>6922-1</td>\n",
       "      <td>2016-09-28</td>\n",
       "      <td>Troy Staebel</td>\n",
       "      <td>1-2/299 Sussex St,Sydney</td>\n",
       "      <td>Sydney</td>\n",
       "      <td>NSW</td>\n",
       "      <td>Consumer</td>\n",
       "      <td>Aanya Zhang</td>\n",
       "      <td>Low</td>\n",
       "      <td>Laser DVD-RAM discs</td>\n",
       "      <td>...</td>\n",
       "      <td>35.41</td>\n",
       "      <td>$15.23</td>\n",
       "      <td>19.0</td>\n",
       "      <td>$929.40</td>\n",
       "      <td>9%</td>\n",
       "      <td>$27.88</td>\n",
       "      <td>$901.52</td>\n",
       "      <td>$1.99</td>\n",
       "      <td>$921.03</td>\n",
       "      <td>2 days</td>\n",
       "    </tr>\n",
       "    <tr>\n",
       "      <th>4998</th>\n",
       "      <td>6939-1</td>\n",
       "      <td>2016-06-18</td>\n",
       "      <td>Shaun Weien</td>\n",
       "      <td>Shop 3/144 Wattle St,Ultimo</td>\n",
       "      <td>Sydney</td>\n",
       "      <td>NSW</td>\n",
       "      <td>Corporate</td>\n",
       "      <td>Samantha Chairs</td>\n",
       "      <td>Not Specified</td>\n",
       "      <td>Artisan 479 Labels</td>\n",
       "      <td>...</td>\n",
       "      <td>2.61</td>\n",
       "      <td>$1.02</td>\n",
       "      <td>23.0</td>\n",
       "      <td>$66.54</td>\n",
       "      <td>5%</td>\n",
       "      <td>$4.46</td>\n",
       "      <td>$63.77</td>\n",
       "      <td>$0.50</td>\n",
       "      <td>$64.27</td>\n",
       "      <td>2 days</td>\n",
       "    </tr>\n",
       "    <tr>\n",
       "      <th>4999</th>\n",
       "      <td>6980-1</td>\n",
       "      <td>2015-08-12</td>\n",
       "      <td>Nora Pelletier</td>\n",
       "      <td>5/250 Old Northern Road,Castle Hill</td>\n",
       "      <td>Sydney</td>\n",
       "      <td>NSW</td>\n",
       "      <td>Consumer</td>\n",
       "      <td>Nicholas Fernandes</td>\n",
       "      <td>Low</td>\n",
       "      <td>Binder Posts</td>\n",
       "      <td>...</td>\n",
       "      <td>5.74</td>\n",
       "      <td>$2.24</td>\n",
       "      <td>31.0</td>\n",
       "      <td>$213.34</td>\n",
       "      <td>0%</td>\n",
       "      <td>$4.67</td>\n",
       "      <td>$216.51</td>\n",
       "      <td>$5.01</td>\n",
       "      <td>$221.52</td>\n",
       "      <td>2 days</td>\n",
       "    </tr>\n",
       "  </tbody>\n",
       "</table>\n",
       "<p>5000 rows × 25 columns</p>\n",
       "</div>"
      ],
      "text/plain": [
       "     Order No Order Date           Customer Name  \\\n",
       "0      4293-1 2014-09-02        Vivek Sundaresam   \n",
       "1      5001-1 2015-10-24          Shahid Hopkins   \n",
       "2      5004-1 2014-03-13           Dennis Pardue   \n",
       "3      5009-1 2013-02-18              Sean Wendt   \n",
       "4      5010-1 2014-09-13  Christina Vanderzanden   \n",
       "...       ...        ...                     ...   \n",
       "4995   6831-1 2016-11-02           Roland Murray   \n",
       "4996   6847-1 2015-12-16          Patrick OBrill   \n",
       "4997   6922-1 2016-09-28            Troy Staebel   \n",
       "4998   6939-1 2016-06-18             Shaun Weien   \n",
       "4999   6980-1 2015-08-12          Nora Pelletier   \n",
       "\n",
       "                                  Address       City State   Customer Type  \\\n",
       "0          152 Bunnerong Road,Eastgardens     Sydney   NSW  Small Business   \n",
       "1           438 Victoria Avenue,Chatswood     Sydney   NSW       Corporate   \n",
       "2                412 Brunswick St,Fitzroy  Melbourne   VIC        Consumer   \n",
       "3                145 Ramsay St,Haberfield     Sydney   NSW  Small Business   \n",
       "4                  188 Pitt Street,Sydney     Sydney   NSW  Small Business   \n",
       "...                                   ...        ...   ...             ...   \n",
       "4995        438 Victoria Avenue,Chatswood     Sydney   NSW       Corporate   \n",
       "4996        63 Riley Street,Woolloomooloo     Sydney   NSW  Small Business   \n",
       "4997             1-2/299 Sussex St,Sydney     Sydney   NSW        Consumer   \n",
       "4998          Shop 3/144 Wattle St,Ultimo     Sydney   NSW       Corporate   \n",
       "4999  5/250 Old Northern Road,Castle Hill     Sydney   NSW        Consumer   \n",
       "\n",
       "         Account Manager Order Priority  \\\n",
       "0           Tina Carlton       Critical   \n",
       "1           Natasha Song         Medium   \n",
       "2           Connor Betts  Not Specified   \n",
       "3            Phoebe Gour       Critical   \n",
       "4           Tina Carlton  Not Specified   \n",
       "...                  ...            ...   \n",
       "4995        Natasha Song       Critical   \n",
       "4996        Tina Carlton  Not Specified   \n",
       "4997         Aanya Zhang            Low   \n",
       "4998     Samantha Chairs  Not Specified   \n",
       "4999  Nicholas Fernandes            Low   \n",
       "\n",
       "                                        Product Name  ... Retail Price  \\\n",
       "0     UGen Ultra Professional Cordless Optical Suite  ...       300.97   \n",
       "1                                Bagged Rubber Bands  ...         1.26   \n",
       "2                    TechSavi Cordless Navigator Duo  ...        80.98   \n",
       "3      Artisan Printable Repositionable Plastic Tabs  ...         8.60   \n",
       "4                          Pizazz Drawing Pencil Set  ...         2.78   \n",
       "...                                              ...  ...          ...   \n",
       "4995        Artisan Hi-Liter Smear-Safe Highlighters  ...         5.84   \n",
       "4996            Smiths Colored Interoffice Envelopes  ...        30.98   \n",
       "4997                             Laser DVD-RAM discs  ...        35.41   \n",
       "4998                              Artisan 479 Labels  ...         2.61   \n",
       "4999                                    Binder Posts  ...         5.74   \n",
       "\n",
       "     Profit Margin Order Quantity  Sub Total  Discount %  Discount $  \\\n",
       "0          $144.47           23.0  $4,533.52          2%     $194.83   \n",
       "1            $1.02            8.0     $45.20          3%       $0.00   \n",
       "2           $38.87           45.0    $873.32          4%      $72.23   \n",
       "3            $3.27           16.0     $73.52          1%       $4.35   \n",
       "4            $1.25           49.0    $138.46          7%       $5.95   \n",
       "...            ...            ...        ...         ...         ...   \n",
       "4995         $2.86           35.0    $115.40          2%      $10.81   \n",
       "4996        $11.15           49.0  $1,999.69          7%     $143.91   \n",
       "4997        $15.23           19.0    $929.40          9%      $27.88   \n",
       "4998         $1.02           23.0     $66.54          5%       $4.46   \n",
       "4999         $2.24           31.0    $213.34          0%       $4.67   \n",
       "\n",
       "     Order Total  Shipping Cost      Total Shipping_duration  \n",
       "0      $4,757.22          $7.18  $4,291.55            2 days  \n",
       "1         $45.90          $0.70     $46.91            2 days  \n",
       "2        $837.57          $7.18     $82.58            0 days  \n",
       "3        $740.67          $6.19    $730.92            2 days  \n",
       "4        $123.77          $1.34    $125.97            4 days  \n",
       "...          ...            ...        ...               ...  \n",
       "4995     $104.09          $0.83    $101.22            4 days  \n",
       "4996   $1,947.75         $19.51  $1,052.55            2 days  \n",
       "4997     $901.52          $1.99    $921.03            2 days  \n",
       "4998      $63.77          $0.50     $64.27            2 days  \n",
       "4999     $216.51          $5.01    $221.52            2 days  \n",
       "\n",
       "[5000 rows x 25 columns]"
      ]
     },
     "execution_count": 15,
     "metadata": {},
     "output_type": "execute_result"
    }
   ],
   "source": [
    "df"
   ]
  },
  {
   "cell_type": "code",
   "execution_count": 16,
   "id": "da6e1887",
   "metadata": {},
   "outputs": [
    {
     "data": {
      "text/html": [
       "<div>\n",
       "<style scoped>\n",
       "    .dataframe tbody tr th:only-of-type {\n",
       "        vertical-align: middle;\n",
       "    }\n",
       "\n",
       "    .dataframe tbody tr th {\n",
       "        vertical-align: top;\n",
       "    }\n",
       "\n",
       "    .dataframe thead th {\n",
       "        text-align: right;\n",
       "    }\n",
       "</style>\n",
       "<table border=\"1\" class=\"dataframe\">\n",
       "  <thead>\n",
       "    <tr style=\"text-align: right;\">\n",
       "      <th></th>\n",
       "      <th>Order No</th>\n",
       "      <th>Order Date</th>\n",
       "      <th>Customer Name</th>\n",
       "      <th>Address</th>\n",
       "      <th>City</th>\n",
       "      <th>State</th>\n",
       "      <th>Customer Type</th>\n",
       "      <th>Account Manager</th>\n",
       "      <th>Order Priority</th>\n",
       "      <th>Product Name</th>\n",
       "      <th>...</th>\n",
       "      <th>Retail Price</th>\n",
       "      <th>Profit Margin</th>\n",
       "      <th>Order Quantity</th>\n",
       "      <th>Sub Total</th>\n",
       "      <th>Discount %</th>\n",
       "      <th>Discount $</th>\n",
       "      <th>Order Total</th>\n",
       "      <th>Shipping Cost</th>\n",
       "      <th>Total</th>\n",
       "      <th>Shipping_duration</th>\n",
       "    </tr>\n",
       "  </thead>\n",
       "  <tbody>\n",
       "  </tbody>\n",
       "</table>\n",
       "<p>0 rows × 25 columns</p>\n",
       "</div>"
      ],
      "text/plain": [
       "Empty DataFrame\n",
       "Columns: [Order No, Order Date, Customer Name, Address, City, State, Customer Type, Account Manager, Order Priority, Product Name, Product Category, Product Container, Ship Mode, Ship Date, Cost Price, Retail Price, Profit Margin, Order Quantity, Sub Total, Discount %, Discount $, Order Total, Shipping Cost, Total, Shipping_duration]\n",
       "Index: []\n",
       "\n",
       "[0 rows x 25 columns]"
      ]
     },
     "execution_count": 16,
     "metadata": {},
     "output_type": "execute_result"
    }
   ],
   "source": [
    "#13.  Are there any orders with zero or negative total or quantity? \n",
    "\n",
    "df[df[\"Order Quantity\"]<= 0]\n",
    "\n"
   ]
  },
  {
   "cell_type": "code",
   "execution_count": 17,
   "id": "b6e85fa5",
   "metadata": {},
   "outputs": [
    {
     "data": {
      "text/plain": [
       "np.False_"
      ]
     },
     "execution_count": 17,
     "metadata": {},
     "output_type": "execute_result"
    }
   ],
   "source": [
    "#14. Are all discount percentages matching discount dollar amounts? \n",
    "\n",
    "equal = (df[\"Discount $\"] == df[\"Discount %\"]).all()\n",
    "equal"
   ]
  },
  {
   "cell_type": "code",
   "execution_count": null,
   "id": "ee61c694",
   "metadata": {},
   "outputs": [
    {
     "name": "stdout",
     "output_type": "stream",
     "text": [
      "miss matched total found in 3960 rows:\n"
     ]
    }
   ],
   "source": [
    "#15. Check for mismatches in total calculation.\n",
    "\n",
    "\n",
    "col = [\"Sub Total\",\"Discount $\",\"Shipping Cost\",\"Total\"]\n",
    "for col in col:\n",
    "    df[col] = (df[col].astype(str).str.strip().str.replace(r'[^0-9.\\-]+',\"\",regex=True))\n",
    "    df[col] = pd.to_numeric(df[col],errors='coerce')\n",
    "\n",
    "mis_match_t = df[abs(df[\"Total\"]- (df[\"Sub Total\"]-df[\"Discount $\"]+ df[\"Shipping Cost\"])) > 0.01]\n",
    "\n",
    "if mis_match_t.empty:\n",
    "    print(\"No mismatched total found\")\n",
    "else:\n",
    "    print(f\"miss matched total found in {len(mis_match_t)} rows:\")\n",
    "   "
   ]
  },
  {
   "cell_type": "code",
   "execution_count": 19,
   "id": "6e7b0ce5",
   "metadata": {},
   "outputs": [
    {
     "data": {
      "text/plain": [
       "Product Name\n",
       "Artisan 474 Labels                         136\n",
       "Smiths General Use 3-Ring Binders          126\n",
       "Apex Preferred Stainless Steel Scissors    112\n",
       "Artisan 479 Labels                         112\n",
       "Alto Memo Cubes                            107\n",
       "Name: Order Quantity, dtype: int64"
      ]
     },
     "execution_count": 19,
     "metadata": {},
     "output_type": "execute_result"
    }
   ],
   "source": [
    "#16. Identify top 5 products by order quantity. \n",
    "\n",
    "df.groupby(\"Product Name\")[\"Order Quantity\"].count().sort_values(ascending=False).head(5)"
   ]
  },
  {
   "cell_type": "code",
   "execution_count": 20,
   "id": "2b24ad80",
   "metadata": {},
   "outputs": [
    {
     "data": {
      "text/plain": [
       "Account Manager\n",
       "Connor Betts    928249.39\n",
       "Name: Revenue, dtype: float64"
      ]
     },
     "execution_count": 20,
     "metadata": {},
     "output_type": "execute_result"
    }
   ],
   "source": [
    "#17.  Which Account Manager handled the most revenue? \n",
    "\n",
    "\n",
    "df[\"Revenue\"]= df[\"Retail Price\"]*df[\"Order Quantity\"]\n",
    "total_revenue = df[\"Revenue\"].sum()\n",
    "df.groupby(\"Account Manager\")[\"Revenue\"].sum().sort_values(ascending=False).head(1)\n",
    "\n",
    "\n",
    "\n"
   ]
  },
  {
   "cell_type": "code",
   "execution_count": 21,
   "id": "acd2e77b",
   "metadata": {},
   "outputs": [
    {
     "data": {
      "text/plain": [
       "Ship Mode\n",
       "Regular Air       5.503553\n",
       "Delivery Truck    5.270085\n",
       "Express Air       5.247311\n",
       "Name: Shipping Cost, dtype: float64"
      ]
     },
     "execution_count": 21,
     "metadata": {},
     "output_type": "execute_result"
    }
   ],
   "source": [
    "#18.  What is the average shipping cost by mode? \n",
    "\n",
    "df.groupby(\"Ship Mode\")[\"Shipping Cost\"].mean().sort_values(ascending=False)\n"
   ]
  },
  {
   "cell_type": "code",
   "execution_count": 22,
   "id": "9b2db0b1",
   "metadata": {},
   "outputs": [
    {
     "data": {
      "text/plain": [
       "Product Name\n",
       "Economy Rollaway Files    $97.47\n",
       "Name: Profit Margin, dtype: object"
      ]
     },
     "execution_count": 22,
     "metadata": {},
     "output_type": "execute_result"
    }
   ],
   "source": [
    "#19.Find the most profitable product. \n",
    "\n",
    "df.groupby(\"Product Name\")[\"Profit Margin\"].max().sort_values(ascending=False).head(1)"
   ]
  },
  {
   "cell_type": "markdown",
   "id": "5f292f57",
   "metadata": {},
   "source": [
    "Insightful Analysis Questions "
   ]
  },
  {
   "cell_type": "code",
   "execution_count": 23,
   "id": "d56474d3",
   "metadata": {},
   "outputs": [
    {
     "name": "stdout",
     "output_type": "stream",
     "text": [
      "Total revenue generated across all orders is :- 5186314.12\n"
     ]
    }
   ],
   "source": [
    "#01. What is the total revenue generated across all orders? \n",
    "\n",
    "df[\"Revenue\"]= df[\"Retail Price\"]*df[\"Order Quantity\"]\n",
    "total_revenue = df[\"Revenue\"].sum()\n",
    "\n",
    "print(f\"Total revenue generated across all orders is :- {total_revenue}\")\n"
   ]
  },
  {
   "cell_type": "code",
   "execution_count": 24,
   "id": "9eff6284",
   "metadata": {},
   "outputs": [
    {
     "data": {
      "text/plain": [
       "Customer Type\n",
       "Corporate    1753097.41\n",
       "Name: Revenue, dtype: float64"
      ]
     },
     "execution_count": 24,
     "metadata": {},
     "output_type": "execute_result"
    }
   ],
   "source": [
    "#02. Which customer type generates more revenue? \n",
    "\n",
    "df.groupby(\"Customer Type\")[\"Revenue\"].sum().sort_values(ascending=False).head(1)"
   ]
  },
  {
   "cell_type": "code",
   "execution_count": 25,
   "id": "c10b7e66",
   "metadata": {},
   "outputs": [
    {
     "name": "stderr",
     "output_type": "stream",
     "text": [
      "C:\\Users\\mjmak\\AppData\\Local\\Temp\\ipykernel_13056\\3672266194.py:3: FutureWarning: Downcasting behavior in `replace` is deprecated and will be removed in a future version. To retain the old behavior, explicitly call `result.infer_objects(copy=False)`. To opt-in to the future behavior, set `pd.set_option('future.no_silent_downcasting', True)`\n",
      "  df[\"Order Priority\"]=df[\"Order Priority\"].replace(\n"
     ]
    },
    {
     "data": {
      "text/plain": [
       "np.float64(0.007173550710202885)"
      ]
     },
     "execution_count": 25,
     "metadata": {},
     "output_type": "execute_result"
    }
   ],
   "source": [
    "#03.How does order priority affect revenue? \n",
    "\n",
    "df[\"Order Priority\"]=df[\"Order Priority\"].replace(\n",
    "    {\"Not Specified\": 0, \"Low\": 1, \"Medium\": 2,\"High\":3,\"Critical\":4}\n",
    ")\n",
    "corr = df[\"Order Priority\"].corr(df[\"Revenue\"])\n",
    "corr"
   ]
  },
  {
   "cell_type": "code",
   "execution_count": 26,
   "id": "f8759948",
   "metadata": {},
   "outputs": [
    {
     "data": {
      "text/plain": [
       "Product Category\n",
       "Furniture          12.701953\n",
       "Office Supplies    17.682609\n",
       "Technology         20.423208\n",
       "Name: Profit Margin, dtype: float64"
      ]
     },
     "execution_count": 26,
     "metadata": {},
     "output_type": "execute_result"
    }
   ],
   "source": [
    "#04.What is the average profit margin by product category? \n",
    "\n",
    "\n",
    "\n",
    "df[\"Profit Margin\"] = (df[\"Profit Margin\"].astype(str).str.strip().str.replace('$',''))\n",
    "df[\"Profit Margin\"]= pd.to_numeric(df[\"Profit Margin\"],errors='coerce')\n",
    "\n",
    "# checking datatype after conversion\n",
    "df[\"Profit Margin\"].dtype\n",
    "\n",
    "df[\"Profit Margin\"].isna()\n",
    "\n",
    "df.groupby(\"Product Category\")[\"Profit Margin\"].mean()\n",
    "\n",
    "\n",
    "\n"
   ]
  },
  {
   "cell_type": "code",
   "execution_count": 27,
   "id": "f883d7be",
   "metadata": {},
   "outputs": [
    {
     "name": "stdout",
     "output_type": "stream",
     "text": [
      "Most profitable product is :- Emerson Stylus 1520 Color Inkjet Printer\n"
     ]
    }
   ],
   "source": [
    "#05.What is the most profitable product overall? \n",
    "\n",
    "Product_max_profit=df.groupby(\"Product Name\")[\"Profit Margin\"].max().sort_values(ascending=False).head(1)\n",
    "product = Product_max_profit.index[0]\n",
    "\n",
    "print(f\"Most profitable product is :- {product}\")\n"
   ]
  },
  {
   "cell_type": "code",
   "execution_count": 28,
   "id": "e7b90f7e",
   "metadata": {},
   "outputs": [
    {
     "name": "stdout",
     "output_type": "stream",
     "text": [
      "Usually it takes 1 day to ship an order\n"
     ]
    }
   ],
   "source": [
    "#06. How many days does it usually take to ship an order? \n",
    "\n",
    "avg_days =df[\"Shipping_duration\"].mean().days\n",
    "\n",
    "print(f\"Usually it takes {avg_days} day to ship an order\")"
   ]
  },
  {
   "cell_type": "code",
   "execution_count": null,
   "id": "90ec94db",
   "metadata": {},
   "outputs": [
    {
     "data": {
      "text/plain": [
       "np.float64(-0.01978703518675127)"
      ]
     },
     "execution_count": 34,
     "metadata": {},
     "output_type": "execute_result"
    }
   ],
   "source": [
    "#07.Do longer shipping times impact profit margins?\n",
    "\n",
    "df[\"Shipping_duration\"].mean()\n",
    "\n",
    "corr = df[\"Shipping_duration\"].corr(df[\"Profit Margin\"])\n",
    "corr\n"
   ]
  },
  {
   "cell_type": "code",
   "execution_count": 39,
   "id": "6888e47e",
   "metadata": {},
   "outputs": [
    {
     "data": {
      "text/plain": [
       "City\n",
       "Melbourne    29999.5\n",
       "Name: Revenue, dtype: float64"
      ]
     },
     "execution_count": 39,
     "metadata": {},
     "output_type": "execute_result"
    }
   ],
   "source": [
    "#08.Which city brings in the highest revenue? \n",
    "\n",
    "df[\"Revenue\"]= df[\"Retail Price\"]*df[\"Order Quantity\"]\n",
    "\n",
    "df.groupby(\"City\")[\"Revenue\"].max().sort_values(ascending=False).head(1)\n"
   ]
  },
  {
   "cell_type": "code",
   "execution_count": 43,
   "id": "a32bfce7",
   "metadata": {},
   "outputs": [
    {
     "data": {
      "text/plain": [
       "Account Manager\n",
       "Connor Betts    29999.5\n",
       "Name: Revenue, dtype: float64"
      ]
     },
     "execution_count": 43,
     "metadata": {},
     "output_type": "execute_result"
    }
   ],
   "source": [
    "#09.Which account manager generated the most revenue? \n",
    "\n",
    "df.groupby(\"Account Manager\")[\"Revenue\"].max().sort_values(ascending=False).head(1)"
   ]
  },
  {
   "cell_type": "code",
   "execution_count": null,
   "id": "7f90fb53",
   "metadata": {},
   "outputs": [
    {
     "data": {
      "text/plain": [
       "Ship Mode\n",
       "Express Air    5.247311\n",
       "Name: Shipping Cost, dtype: float64"
      ]
     },
     "execution_count": 50,
     "metadata": {},
     "output_type": "execute_result"
    }
   ],
   "source": [
    "#10. Which shipping mode is most cost-effective (lowest avg. shipping)?\n",
    "\n",
    "df.groupby(\"Ship Mode\")[\"Shipping Cost\"].mean().sort_values().head(1)\n",
    "\n",
    "\n"
   ]
  },
  {
   "cell_type": "code",
   "execution_count": 52,
   "id": "bbbc66b2",
   "metadata": {},
   "outputs": [
    {
     "data": {
      "text/plain": [
       "np.float64(0.39349726173151367)"
      ]
     },
     "execution_count": 52,
     "metadata": {},
     "output_type": "execute_result"
    }
   ],
   "source": [
    "#11.  Do higher discounts reduce profits? \n",
    "\n",
    "corr = df[\"Discount $\"].corr(df[\"Profit Margin\"])\n",
    "corr"
   ]
  },
  {
   "cell_type": "code",
   "execution_count": 54,
   "id": "6c7d960f",
   "metadata": {},
   "outputs": [
    {
     "data": {
      "text/plain": [
       "State\n",
       "NSW    3583\n",
       "Name: Order Quantity, dtype: int64"
      ]
     },
     "execution_count": 54,
     "metadata": {},
     "output_type": "execute_result"
    }
   ],
   "source": [
    "#12.Which state has the highest number of orders? \n",
    "\n",
    "df.groupby(\"State\")[\"Order Quantity\"].count().sort_values(ascending=False).head(1)"
   ]
  },
  {
   "cell_type": "code",
   "execution_count": null,
   "id": "8e62fa7d",
   "metadata": {},
   "outputs": [
    {
     "data": {
      "text/plain": [
       "np.float64(0.05033800000000001)"
      ]
     },
     "execution_count": 59,
     "metadata": {},
     "output_type": "execute_result"
    }
   ],
   "source": [
    "#13. What is the average discount % across all orders? \n",
    "\n",
    "df[\"Discount %\"] = df[\"Discount %\"].str.strip('%').astype(float)/100\n",
    "\n",
    "df[\"Discount %\"].mean()"
   ]
  },
  {
   "cell_type": "code",
   "execution_count": 60,
   "id": "de6b4654",
   "metadata": {},
   "outputs": [
    {
     "data": {
      "text/plain": [
       "np.float64(746.3072800000001)"
      ]
     },
     "execution_count": 60,
     "metadata": {},
     "output_type": "execute_result"
    }
   ],
   "source": [
    "#14. What is the average total spend per order? \n",
    "\n",
    "df[\"Total\"].mean()"
   ]
  },
  {
   "cell_type": "code",
   "execution_count": 71,
   "id": "7f55406c",
   "metadata": {},
   "outputs": [
    {
     "name": "stdout",
     "output_type": "stream",
     "text": [
      "Most profitable container is Small Box with profit of 19.67%\n"
     ]
    }
   ],
   "source": [
    "#15. Are certain containers (e.g., Small Box, Wrap Bag) more profitable? \n",
    "\n",
    "avg_profit_by_container = df.groupby(\"Product Container\")[\"Profit Margin\"].mean()\n",
    "avg_profit_by_container\n",
    "\n",
    "profitable_cont = avg_profit_by_container.idxmax()\n",
    "\n",
    "containr = avg_profit_by_container.max()\n",
    "containr\n",
    "\n",
    "\n",
    "print(f\"Most profitable container is {profitable_cont} with profit of {containr:.2f}%\")"
   ]
  },
  {
   "cell_type": "code",
   "execution_count": null,
   "id": "1391ff21",
   "metadata": {},
   "outputs": [],
   "source": []
  },
  {
   "cell_type": "markdown",
   "id": "85a0c1d0",
   "metadata": {},
   "source": [
    "FINDINGS -->\n",
    "\n",
    "1.What is the shape (rows, columns) of the dataset? \n",
    "--> Shape of dataset is (5000, 24)\n",
    "\n",
    "2.Are there any duplicate records?\n",
    "--> There are no duplicate records.\n",
    "\n",
    "3.Are there any missing or corrupted entries in Ship Date, Order Date, or numeric columns?\n",
    "--> There is 1 missing/corrupted entry in Order Quantity.\n",
    "\n",
    "4.What are the unique values in Customer Type and Order Priority? \n",
    "--> \n",
    "\n",
    "    Unique values in customer types are:\n",
    "    ['Small Business' 'Corporate' 'Consumer' 'Home Office']\n",
    "\n",
    "    Unique values in customer types are:\n",
    "    ['Critical' 'Medium' 'Not Specified' 'Low' 'High']\n",
    "\n",
    "5.what are the most common shipping modes? \n",
    "--> Most common shipping mode is : \"Regular Air\"\n",
    "\n",
    "6.Which cities have the highest number of orders? \n",
    "-->\n",
    "\n",
    "    Sydney       3584\n",
    "    Melbourne    1416\n",
    "\n",
    "7.Whats the range of order quantities and prices? \n",
    "-->\n",
    "\n",
    "    Range of Order Quantities is in between 1.0 to 50.0\n",
    "    Range of Price is in between 0.24 to 377.99\n",
    "\n",
    "8.Are there any orders with zero or negative total or quantity? \n",
    "--> There is no order with zero or negative total or quantity.\n",
    "\n",
    "9.Are all discount percentages matching discount dollar amounts?\n",
    "--> All discount percentages are not matching discount dollar amounts.\n",
    "\n",
    "10.Check for mismatches in total calculation\n",
    "--> Found missmatches in total 3960 rows.\n",
    "\n",
    "11.Identify top 5 products by order quantity.\n",
    "\n",
    "    Product Name\n",
    "    Artisan 474 Labels                         136\n",
    "    Smiths General Use 3-Ring Binders          126\n",
    "    Apex Preferred Stainless Steel Scissors    112\n",
    "    Artisan 479 Labels                         112\n",
    "    Alto Memo Cubes                            107\n",
    "\n",
    "12.Which Account Manager handled the most revenue?\n",
    "--> \n",
    "\n",
    "    Account Manager\n",
    "    Connor Betts    928249.39\n",
    "\n",
    "13.What is the average shipping cost by mode?\n",
    "-->\n",
    "\n",
    "    Ship Mode\n",
    "    Regular Air       5.503553\n",
    "    Delivery Truck    5.270085\n",
    "    Express Air       5.247311\n",
    "\n",
    "14.Find the most profitable product.\n",
    "--> \n",
    "\n",
    "    Product Name\n",
    "    Economy Rollaway Files    $97.47\n",
    "\n",
    "15.What is the total revenue generated across all orders? \n",
    "-->Total revenue generated across all orders is :- 5186314.12\n",
    "\n",
    "16.Which customer type generates more revenue? \n",
    "\n",
    "    Customer Type\n",
    "    Corporate    1753097.41\n",
    "\n",
    "17.How does order priority affect revenue? \n",
    "--> Correlation is (0.007173550710202885)\n",
    "\n",
    "18.What is the average profit margin by product category?\n",
    "\n",
    "    Product Category\n",
    "    Furniture          12.701953\n",
    "    Office Supplies    17.682609\n",
    "    Technology         20.423208\n",
    "\n",
    "19.What is the most profitable product overall?\n",
    "--> Most profitable product is :- Emerson Stylus 1520 Color Inkjet Printer\n",
    "\n",
    "20.How many days does it usually take to ship an order? \n",
    "-->Usually it takes 1 day to ship an order.\n",
    "\n",
    "21.Do longer shipping times impact profit margins?\n",
    "--> Correlation between shipping time and profit margin is : (-0.0197)\n",
    "\n",
    "22.Which city brings in the highest revenue? \n",
    "\n",
    "    City\n",
    "    Melbourne    29999.5\n",
    "\n",
    "23.Which shipping mode is most cost-effective (lowest avg. shipping)?\n",
    "\n",
    "    Ship Mode\n",
    "    Express Air    5.247311\n",
    "\n",
    "24.Do higher discounts reduce profits\n",
    "--> Correlation between discount and profits is : 0.3934\n",
    "\n",
    "25.Which state has the highest number of orders? \n",
    "\n",
    "    State\n",
    "    NSW    3583\n",
    "\n",
    "26.What is the average discount % across all orders? \n",
    "--> Average discount % across all orders is 0.050\n",
    "\n",
    "27.What is the average total spend per order? \n",
    "--> Average total spend per order is 746.30\n",
    "\n",
    "28.Are certain containers (e.g., Small Box, Wrap Bag) more profitable?\n",
    "--> Most profitable container is Small Box with profit of 19.67%\n",
    "\n"
   ]
  },
  {
   "cell_type": "code",
   "execution_count": null,
   "id": "9a74185a",
   "metadata": {},
   "outputs": [],
   "source": []
  }
 ],
 "metadata": {
  "kernelspec": {
   "display_name": "Python 3",
   "language": "python",
   "name": "python3"
  },
  "language_info": {
   "codemirror_mode": {
    "name": "ipython",
    "version": 3
   },
   "file_extension": ".py",
   "mimetype": "text/x-python",
   "name": "python",
   "nbconvert_exporter": "python",
   "pygments_lexer": "ipython3",
   "version": "3.13.5"
  }
 },
 "nbformat": 4,
 "nbformat_minor": 5
}
